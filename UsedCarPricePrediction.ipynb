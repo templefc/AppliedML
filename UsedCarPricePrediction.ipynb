{
 "cells": [
  {
   "cell_type": "code",
   "execution_count": 1,
   "id": "c7ccb49d-f536-4da5-aeb8-8088ad512a0c",
   "metadata": {},
   "outputs": [],
   "source": [
    "# import necessary libraries and specify that graphs should be plotted inline\n",
    "import numpy as np\n",
    "import pandas as pd\n",
    "pd.set_option('display.float_format', '{:.2f}'.format)\n",
    "import sklearn\n",
    "import matplotlib.pyplot as plt\n",
    "import seaborn as sns\n",
    "from sklearn.metrics import mean_absolute_error as mae\n",
    "from sklearn.metrics import mean_squared_error as mse\n",
    "from sklearn.metrics import r2_score\n",
    "%matplotlib inline \n",
    "import warnings\n",
    "warnings.filterwarnings('ignore')"
   ]
  },
  {
   "cell_type": "code",
   "execution_count": 2,
   "id": "c51595f7-07fa-4c8d-af4f-102fcec6b192",
   "metadata": {},
   "outputs": [
    {
     "data": {
      "text/plain": [
       "(6019, 14)"
      ]
     },
     "execution_count": 2,
     "metadata": {},
     "output_type": "execute_result"
    }
   ],
   "source": [
    "# Load the dataset from the csv file:\n",
    "raw_data = pd.read_csv('train-data.csv')\n",
    "# shape of the dataframe\n",
    "raw_data.shape"
   ]
  },
  {
   "cell_type": "code",
   "execution_count": 3,
   "id": "ded746e6-4327-4a0c-9cf2-b36d3e8add72",
   "metadata": {},
   "outputs": [
    {
     "data": {
      "text/plain": [
       "Index(['Unnamed: 0', 'Name', 'Location', 'Year', 'Kilometers_Driven',\n",
       "       'Fuel_Type', 'Transmission', 'Owner_Type', 'Mileage', 'Engine', 'Power',\n",
       "       'Seats', 'New_Price', 'Price'],\n",
       "      dtype='object')"
      ]
     },
     "execution_count": 3,
     "metadata": {},
     "output_type": "execute_result"
    }
   ],
   "source": [
    "# variable names\n",
    "raw_data.columns"
   ]
  },
  {
   "cell_type": "code",
   "execution_count": 4,
   "id": "6c98567d-3018-410a-8849-284438e59215",
   "metadata": {},
   "outputs": [
    {
     "data": {
      "text/html": [
       "<div>\n",
       "<style scoped>\n",
       "    .dataframe tbody tr th:only-of-type {\n",
       "        vertical-align: middle;\n",
       "    }\n",
       "\n",
       "    .dataframe tbody tr th {\n",
       "        vertical-align: top;\n",
       "    }\n",
       "\n",
       "    .dataframe thead th {\n",
       "        text-align: right;\n",
       "    }\n",
       "</style>\n",
       "<table border=\"1\" class=\"dataframe\">\n",
       "  <thead>\n",
       "    <tr style=\"text-align: right;\">\n",
       "      <th></th>\n",
       "      <th>Name</th>\n",
       "      <th>Location</th>\n",
       "      <th>Year</th>\n",
       "      <th>Kilometers_Driven</th>\n",
       "      <th>Fuel_Type</th>\n",
       "      <th>Transmission</th>\n",
       "      <th>Owner_Type</th>\n",
       "      <th>Mileage</th>\n",
       "      <th>Engine</th>\n",
       "      <th>Power</th>\n",
       "      <th>Seats</th>\n",
       "      <th>New_Price</th>\n",
       "      <th>Price</th>\n",
       "    </tr>\n",
       "  </thead>\n",
       "  <tbody>\n",
       "    <tr>\n",
       "      <th>0</th>\n",
       "      <td>Maruti Wagon R LXI CNG</td>\n",
       "      <td>Mumbai</td>\n",
       "      <td>2010</td>\n",
       "      <td>72000</td>\n",
       "      <td>CNG</td>\n",
       "      <td>Manual</td>\n",
       "      <td>First</td>\n",
       "      <td>26.6 km/kg</td>\n",
       "      <td>998 CC</td>\n",
       "      <td>58.16 bhp</td>\n",
       "      <td>5.00</td>\n",
       "      <td>NaN</td>\n",
       "      <td>1.75</td>\n",
       "    </tr>\n",
       "    <tr>\n",
       "      <th>1</th>\n",
       "      <td>Hyundai Creta 1.6 CRDi SX Option</td>\n",
       "      <td>Pune</td>\n",
       "      <td>2015</td>\n",
       "      <td>41000</td>\n",
       "      <td>Diesel</td>\n",
       "      <td>Manual</td>\n",
       "      <td>First</td>\n",
       "      <td>19.67 kmpl</td>\n",
       "      <td>1582 CC</td>\n",
       "      <td>126.2 bhp</td>\n",
       "      <td>5.00</td>\n",
       "      <td>NaN</td>\n",
       "      <td>12.50</td>\n",
       "    </tr>\n",
       "    <tr>\n",
       "      <th>2</th>\n",
       "      <td>Honda Jazz V</td>\n",
       "      <td>Chennai</td>\n",
       "      <td>2011</td>\n",
       "      <td>46000</td>\n",
       "      <td>Petrol</td>\n",
       "      <td>Manual</td>\n",
       "      <td>First</td>\n",
       "      <td>18.2 kmpl</td>\n",
       "      <td>1199 CC</td>\n",
       "      <td>88.7 bhp</td>\n",
       "      <td>5.00</td>\n",
       "      <td>8.61 Lakh</td>\n",
       "      <td>4.50</td>\n",
       "    </tr>\n",
       "    <tr>\n",
       "      <th>3</th>\n",
       "      <td>Maruti Ertiga VDI</td>\n",
       "      <td>Chennai</td>\n",
       "      <td>2012</td>\n",
       "      <td>87000</td>\n",
       "      <td>Diesel</td>\n",
       "      <td>Manual</td>\n",
       "      <td>First</td>\n",
       "      <td>20.77 kmpl</td>\n",
       "      <td>1248 CC</td>\n",
       "      <td>88.76 bhp</td>\n",
       "      <td>7.00</td>\n",
       "      <td>NaN</td>\n",
       "      <td>6.00</td>\n",
       "    </tr>\n",
       "    <tr>\n",
       "      <th>4</th>\n",
       "      <td>Audi A4 New 2.0 TDI Multitronic</td>\n",
       "      <td>Coimbatore</td>\n",
       "      <td>2013</td>\n",
       "      <td>40670</td>\n",
       "      <td>Diesel</td>\n",
       "      <td>Automatic</td>\n",
       "      <td>Second</td>\n",
       "      <td>15.2 kmpl</td>\n",
       "      <td>1968 CC</td>\n",
       "      <td>140.8 bhp</td>\n",
       "      <td>5.00</td>\n",
       "      <td>NaN</td>\n",
       "      <td>17.74</td>\n",
       "    </tr>\n",
       "    <tr>\n",
       "      <th>5</th>\n",
       "      <td>Hyundai EON LPG Era Plus Option</td>\n",
       "      <td>Hyderabad</td>\n",
       "      <td>2012</td>\n",
       "      <td>75000</td>\n",
       "      <td>LPG</td>\n",
       "      <td>Manual</td>\n",
       "      <td>First</td>\n",
       "      <td>21.1 km/kg</td>\n",
       "      <td>814 CC</td>\n",
       "      <td>55.2 bhp</td>\n",
       "      <td>5.00</td>\n",
       "      <td>NaN</td>\n",
       "      <td>2.35</td>\n",
       "    </tr>\n",
       "    <tr>\n",
       "      <th>6</th>\n",
       "      <td>Nissan Micra Diesel XV</td>\n",
       "      <td>Jaipur</td>\n",
       "      <td>2013</td>\n",
       "      <td>86999</td>\n",
       "      <td>Diesel</td>\n",
       "      <td>Manual</td>\n",
       "      <td>First</td>\n",
       "      <td>23.08 kmpl</td>\n",
       "      <td>1461 CC</td>\n",
       "      <td>63.1 bhp</td>\n",
       "      <td>5.00</td>\n",
       "      <td>NaN</td>\n",
       "      <td>3.50</td>\n",
       "    </tr>\n",
       "    <tr>\n",
       "      <th>7</th>\n",
       "      <td>Toyota Innova Crysta 2.8 GX AT 8S</td>\n",
       "      <td>Mumbai</td>\n",
       "      <td>2016</td>\n",
       "      <td>36000</td>\n",
       "      <td>Diesel</td>\n",
       "      <td>Automatic</td>\n",
       "      <td>First</td>\n",
       "      <td>11.36 kmpl</td>\n",
       "      <td>2755 CC</td>\n",
       "      <td>171.5 bhp</td>\n",
       "      <td>8.00</td>\n",
       "      <td>21 Lakh</td>\n",
       "      <td>17.50</td>\n",
       "    </tr>\n",
       "    <tr>\n",
       "      <th>8</th>\n",
       "      <td>Volkswagen Vento Diesel Comfortline</td>\n",
       "      <td>Pune</td>\n",
       "      <td>2013</td>\n",
       "      <td>64430</td>\n",
       "      <td>Diesel</td>\n",
       "      <td>Manual</td>\n",
       "      <td>First</td>\n",
       "      <td>20.54 kmpl</td>\n",
       "      <td>1598 CC</td>\n",
       "      <td>103.6 bhp</td>\n",
       "      <td>5.00</td>\n",
       "      <td>NaN</td>\n",
       "      <td>5.20</td>\n",
       "    </tr>\n",
       "    <tr>\n",
       "      <th>9</th>\n",
       "      <td>Tata Indica Vista Quadrajet LS</td>\n",
       "      <td>Chennai</td>\n",
       "      <td>2012</td>\n",
       "      <td>65932</td>\n",
       "      <td>Diesel</td>\n",
       "      <td>Manual</td>\n",
       "      <td>Second</td>\n",
       "      <td>22.3 kmpl</td>\n",
       "      <td>1248 CC</td>\n",
       "      <td>74 bhp</td>\n",
       "      <td>5.00</td>\n",
       "      <td>NaN</td>\n",
       "      <td>1.95</td>\n",
       "    </tr>\n",
       "  </tbody>\n",
       "</table>\n",
       "</div>"
      ],
      "text/plain": [
       "                                  Name    Location  Year  Kilometers_Driven  \\\n",
       "0               Maruti Wagon R LXI CNG      Mumbai  2010              72000   \n",
       "1     Hyundai Creta 1.6 CRDi SX Option        Pune  2015              41000   \n",
       "2                         Honda Jazz V     Chennai  2011              46000   \n",
       "3                    Maruti Ertiga VDI     Chennai  2012              87000   \n",
       "4      Audi A4 New 2.0 TDI Multitronic  Coimbatore  2013              40670   \n",
       "5      Hyundai EON LPG Era Plus Option   Hyderabad  2012              75000   \n",
       "6               Nissan Micra Diesel XV      Jaipur  2013              86999   \n",
       "7    Toyota Innova Crysta 2.8 GX AT 8S      Mumbai  2016              36000   \n",
       "8  Volkswagen Vento Diesel Comfortline        Pune  2013              64430   \n",
       "9       Tata Indica Vista Quadrajet LS     Chennai  2012              65932   \n",
       "\n",
       "  Fuel_Type Transmission Owner_Type     Mileage   Engine      Power  Seats  \\\n",
       "0       CNG       Manual      First  26.6 km/kg   998 CC  58.16 bhp   5.00   \n",
       "1    Diesel       Manual      First  19.67 kmpl  1582 CC  126.2 bhp   5.00   \n",
       "2    Petrol       Manual      First   18.2 kmpl  1199 CC   88.7 bhp   5.00   \n",
       "3    Diesel       Manual      First  20.77 kmpl  1248 CC  88.76 bhp   7.00   \n",
       "4    Diesel    Automatic     Second   15.2 kmpl  1968 CC  140.8 bhp   5.00   \n",
       "5       LPG       Manual      First  21.1 km/kg   814 CC   55.2 bhp   5.00   \n",
       "6    Diesel       Manual      First  23.08 kmpl  1461 CC   63.1 bhp   5.00   \n",
       "7    Diesel    Automatic      First  11.36 kmpl  2755 CC  171.5 bhp   8.00   \n",
       "8    Diesel       Manual      First  20.54 kmpl  1598 CC  103.6 bhp   5.00   \n",
       "9    Diesel       Manual     Second   22.3 kmpl  1248 CC     74 bhp   5.00   \n",
       "\n",
       "   New_Price  Price  \n",
       "0        NaN   1.75  \n",
       "1        NaN  12.50  \n",
       "2  8.61 Lakh   4.50  \n",
       "3        NaN   6.00  \n",
       "4        NaN  17.74  \n",
       "5        NaN   2.35  \n",
       "6        NaN   3.50  \n",
       "7    21 Lakh  17.50  \n",
       "8        NaN   5.20  \n",
       "9        NaN   1.95  "
      ]
     },
     "execution_count": 4,
     "metadata": {},
     "output_type": "execute_result"
    }
   ],
   "source": [
    "# Get rid of the first column as it is only an index and with python we already have indexs\n",
    "data = raw_data.drop(raw_data.columns[0], axis=1)\n",
    "\n",
    "# Show the updated dataframe\n",
    "data.head(10)"
   ]
  },
  {
   "cell_type": "markdown",
   "id": "ee892c76-df56-4574-804a-3aca1101515d",
   "metadata": {},
   "source": [
    "# DATASET OVERVIEW\n",
    "\n",
    "This notebook analyzes a dataset of used cars. The key variables included are:\n",
    "\n",
    "- **Name**: The brand and model of the car.\n",
    "- **Location**: The location in which the car is being sold or is available for purchase.\n",
    "- **Year**: The year or edition of the model.\n",
    "- **Kilometers_Driven**: The total kilometres driven in the car by the previous owner(s) in KM.\n",
    "- **Fuel_Type**: The type of fuel used by the car. (Petrol / Diesel / Electric / CNG / LPG)\n",
    "- **Transmission**: The type of transmission used by the car. (Automatic / Manual)\n",
    "- **Owner_Type**: Whether the ownership is Firsthand, Second hand or other.\n",
    "- **Mileage**: The standard mileage offered by the car company in kmpl or km/kg\n",
    "- **Engine**: The displacement volume of the engine in cc.\n",
    "- **Power**: The maximum power of the engine in bhp.\n",
    "- **Seats**: The number of seats in the car.\n",
    "- **New_Price**: The price of a new car of the same model.\n",
    "- **Price**: The price of the car in INR Lakhs."
   ]
  },
  {
   "cell_type": "markdown",
   "id": "d62ad043-d7f4-4e8f-a74a-6088e95dc88e",
   "metadata": {},
   "source": [
    "# DATA PREPROCESSING\n",
    "First of all, lets focus on the target variable, **Price**, if we look closely we can cehck the currency of this price is in Indian rupees in Lakhs,\n",
    "for a better insight we want to change to USD currency for the whole column:"
   ]
  },
  {
   "cell_type": "code",
   "execution_count": 5,
   "id": "f8f00dea-00c2-4ee9-92fe-c9530fb6875b",
   "metadata": {},
   "outputs": [
    {
     "data": {
      "text/html": [
       "<div>\n",
       "<style scoped>\n",
       "    .dataframe tbody tr th:only-of-type {\n",
       "        vertical-align: middle;\n",
       "    }\n",
       "\n",
       "    .dataframe tbody tr th {\n",
       "        vertical-align: top;\n",
       "    }\n",
       "\n",
       "    .dataframe thead th {\n",
       "        text-align: right;\n",
       "    }\n",
       "</style>\n",
       "<table border=\"1\" class=\"dataframe\">\n",
       "  <thead>\n",
       "    <tr style=\"text-align: right;\">\n",
       "      <th></th>\n",
       "      <th>Name</th>\n",
       "      <th>Location</th>\n",
       "      <th>Year</th>\n",
       "      <th>Kilometers_Driven</th>\n",
       "      <th>Fuel_Type</th>\n",
       "      <th>Transmission</th>\n",
       "      <th>Owner_Type</th>\n",
       "      <th>Mileage</th>\n",
       "      <th>Engine</th>\n",
       "      <th>Power</th>\n",
       "      <th>Seats</th>\n",
       "      <th>New_Price</th>\n",
       "      <th>Price_USD</th>\n",
       "    </tr>\n",
       "  </thead>\n",
       "  <tbody>\n",
       "    <tr>\n",
       "      <th>0</th>\n",
       "      <td>Maruti Wagon R LXI CNG</td>\n",
       "      <td>Mumbai</td>\n",
       "      <td>2010</td>\n",
       "      <td>72000</td>\n",
       "      <td>CNG</td>\n",
       "      <td>Manual</td>\n",
       "      <td>First</td>\n",
       "      <td>26.6 km/kg</td>\n",
       "      <td>998 CC</td>\n",
       "      <td>58.16 bhp</td>\n",
       "      <td>5.00</td>\n",
       "      <td>NaN</td>\n",
       "      <td>2108.43</td>\n",
       "    </tr>\n",
       "    <tr>\n",
       "      <th>1</th>\n",
       "      <td>Hyundai Creta 1.6 CRDi SX Option</td>\n",
       "      <td>Pune</td>\n",
       "      <td>2015</td>\n",
       "      <td>41000</td>\n",
       "      <td>Diesel</td>\n",
       "      <td>Manual</td>\n",
       "      <td>First</td>\n",
       "      <td>19.67 kmpl</td>\n",
       "      <td>1582 CC</td>\n",
       "      <td>126.2 bhp</td>\n",
       "      <td>5.00</td>\n",
       "      <td>NaN</td>\n",
       "      <td>15060.24</td>\n",
       "    </tr>\n",
       "    <tr>\n",
       "      <th>2</th>\n",
       "      <td>Honda Jazz V</td>\n",
       "      <td>Chennai</td>\n",
       "      <td>2011</td>\n",
       "      <td>46000</td>\n",
       "      <td>Petrol</td>\n",
       "      <td>Manual</td>\n",
       "      <td>First</td>\n",
       "      <td>18.2 kmpl</td>\n",
       "      <td>1199 CC</td>\n",
       "      <td>88.7 bhp</td>\n",
       "      <td>5.00</td>\n",
       "      <td>8.61 Lakh</td>\n",
       "      <td>5421.69</td>\n",
       "    </tr>\n",
       "    <tr>\n",
       "      <th>3</th>\n",
       "      <td>Maruti Ertiga VDI</td>\n",
       "      <td>Chennai</td>\n",
       "      <td>2012</td>\n",
       "      <td>87000</td>\n",
       "      <td>Diesel</td>\n",
       "      <td>Manual</td>\n",
       "      <td>First</td>\n",
       "      <td>20.77 kmpl</td>\n",
       "      <td>1248 CC</td>\n",
       "      <td>88.76 bhp</td>\n",
       "      <td>7.00</td>\n",
       "      <td>NaN</td>\n",
       "      <td>7228.92</td>\n",
       "    </tr>\n",
       "    <tr>\n",
       "      <th>4</th>\n",
       "      <td>Audi A4 New 2.0 TDI Multitronic</td>\n",
       "      <td>Coimbatore</td>\n",
       "      <td>2013</td>\n",
       "      <td>40670</td>\n",
       "      <td>Diesel</td>\n",
       "      <td>Automatic</td>\n",
       "      <td>Second</td>\n",
       "      <td>15.2 kmpl</td>\n",
       "      <td>1968 CC</td>\n",
       "      <td>140.8 bhp</td>\n",
       "      <td>5.00</td>\n",
       "      <td>NaN</td>\n",
       "      <td>21373.49</td>\n",
       "    </tr>\n",
       "  </tbody>\n",
       "</table>\n",
       "</div>"
      ],
      "text/plain": [
       "                               Name    Location  Year  Kilometers_Driven  \\\n",
       "0            Maruti Wagon R LXI CNG      Mumbai  2010              72000   \n",
       "1  Hyundai Creta 1.6 CRDi SX Option        Pune  2015              41000   \n",
       "2                      Honda Jazz V     Chennai  2011              46000   \n",
       "3                 Maruti Ertiga VDI     Chennai  2012              87000   \n",
       "4   Audi A4 New 2.0 TDI Multitronic  Coimbatore  2013              40670   \n",
       "\n",
       "  Fuel_Type Transmission Owner_Type     Mileage   Engine      Power  Seats  \\\n",
       "0       CNG       Manual      First  26.6 km/kg   998 CC  58.16 bhp   5.00   \n",
       "1    Diesel       Manual      First  19.67 kmpl  1582 CC  126.2 bhp   5.00   \n",
       "2    Petrol       Manual      First   18.2 kmpl  1199 CC   88.7 bhp   5.00   \n",
       "3    Diesel       Manual      First  20.77 kmpl  1248 CC  88.76 bhp   7.00   \n",
       "4    Diesel    Automatic     Second   15.2 kmpl  1968 CC  140.8 bhp   5.00   \n",
       "\n",
       "   New_Price  Price_USD  \n",
       "0        NaN    2108.43  \n",
       "1        NaN   15060.24  \n",
       "2  8.61 Lakh    5421.69  \n",
       "3        NaN    7228.92  \n",
       "4        NaN   21373.49  "
      ]
     },
     "execution_count": 5,
     "metadata": {},
     "output_type": "execute_result"
    }
   ],
   "source": [
    "# Conversion rate (1 USD = 83 INR approximately)\n",
    "conversion_rate = 83\n",
    "\n",
    "# Convert Price from INR Lakhs to USD\n",
    "data['Price_USD'] = (data['Price'] * 100000) / conversion_rate\n",
    "data.drop(columns=['Price'], inplace=True)\n",
    "data.head()"
   ]
  },
  {
   "cell_type": "markdown",
   "id": "d966f02c-55ba-4ed0-8954-150f81c16673",
   "metadata": {},
   "source": [
    "Next, we identify the **Mileage**, **Engine** and **Power** columns as a combination of categorical and numerical data, we proceed to convert those values to just numerical data so that they can be useful in our study:"
   ]
  },
  {
   "cell_type": "code",
   "execution_count": 6,
   "id": "4f39d900-4260-410e-8ff1-77725cf77a52",
   "metadata": {},
   "outputs": [
    {
     "data": {
      "text/html": [
       "<div>\n",
       "<style scoped>\n",
       "    .dataframe tbody tr th:only-of-type {\n",
       "        vertical-align: middle;\n",
       "    }\n",
       "\n",
       "    .dataframe tbody tr th {\n",
       "        vertical-align: top;\n",
       "    }\n",
       "\n",
       "    .dataframe thead th {\n",
       "        text-align: right;\n",
       "    }\n",
       "</style>\n",
       "<table border=\"1\" class=\"dataframe\">\n",
       "  <thead>\n",
       "    <tr style=\"text-align: right;\">\n",
       "      <th></th>\n",
       "      <th>Name</th>\n",
       "      <th>Location</th>\n",
       "      <th>Year</th>\n",
       "      <th>Kilometers_Driven</th>\n",
       "      <th>Fuel_Type</th>\n",
       "      <th>Transmission</th>\n",
       "      <th>Owner_Type</th>\n",
       "      <th>Mileage</th>\n",
       "      <th>Engine</th>\n",
       "      <th>Power</th>\n",
       "      <th>Seats</th>\n",
       "      <th>New_Price</th>\n",
       "      <th>Price_USD</th>\n",
       "    </tr>\n",
       "  </thead>\n",
       "  <tbody>\n",
       "    <tr>\n",
       "      <th>0</th>\n",
       "      <td>Maruti Wagon R LXI CNG</td>\n",
       "      <td>Mumbai</td>\n",
       "      <td>2010</td>\n",
       "      <td>72000</td>\n",
       "      <td>CNG</td>\n",
       "      <td>Manual</td>\n",
       "      <td>First</td>\n",
       "      <td>19.95</td>\n",
       "      <td>998 CC</td>\n",
       "      <td>58.16 bhp</td>\n",
       "      <td>5.00</td>\n",
       "      <td>NaN</td>\n",
       "      <td>2108.43</td>\n",
       "    </tr>\n",
       "    <tr>\n",
       "      <th>1</th>\n",
       "      <td>Hyundai Creta 1.6 CRDi SX Option</td>\n",
       "      <td>Pune</td>\n",
       "      <td>2015</td>\n",
       "      <td>41000</td>\n",
       "      <td>Diesel</td>\n",
       "      <td>Manual</td>\n",
       "      <td>First</td>\n",
       "      <td>19.67</td>\n",
       "      <td>1582 CC</td>\n",
       "      <td>126.2 bhp</td>\n",
       "      <td>5.00</td>\n",
       "      <td>NaN</td>\n",
       "      <td>15060.24</td>\n",
       "    </tr>\n",
       "    <tr>\n",
       "      <th>2</th>\n",
       "      <td>Honda Jazz V</td>\n",
       "      <td>Chennai</td>\n",
       "      <td>2011</td>\n",
       "      <td>46000</td>\n",
       "      <td>Petrol</td>\n",
       "      <td>Manual</td>\n",
       "      <td>First</td>\n",
       "      <td>18.20</td>\n",
       "      <td>1199 CC</td>\n",
       "      <td>88.7 bhp</td>\n",
       "      <td>5.00</td>\n",
       "      <td>8.61 Lakh</td>\n",
       "      <td>5421.69</td>\n",
       "    </tr>\n",
       "    <tr>\n",
       "      <th>3</th>\n",
       "      <td>Maruti Ertiga VDI</td>\n",
       "      <td>Chennai</td>\n",
       "      <td>2012</td>\n",
       "      <td>87000</td>\n",
       "      <td>Diesel</td>\n",
       "      <td>Manual</td>\n",
       "      <td>First</td>\n",
       "      <td>20.77</td>\n",
       "      <td>1248 CC</td>\n",
       "      <td>88.76 bhp</td>\n",
       "      <td>7.00</td>\n",
       "      <td>NaN</td>\n",
       "      <td>7228.92</td>\n",
       "    </tr>\n",
       "    <tr>\n",
       "      <th>4</th>\n",
       "      <td>Audi A4 New 2.0 TDI Multitronic</td>\n",
       "      <td>Coimbatore</td>\n",
       "      <td>2013</td>\n",
       "      <td>40670</td>\n",
       "      <td>Diesel</td>\n",
       "      <td>Automatic</td>\n",
       "      <td>Second</td>\n",
       "      <td>15.20</td>\n",
       "      <td>1968 CC</td>\n",
       "      <td>140.8 bhp</td>\n",
       "      <td>5.00</td>\n",
       "      <td>NaN</td>\n",
       "      <td>21373.49</td>\n",
       "    </tr>\n",
       "  </tbody>\n",
       "</table>\n",
       "</div>"
      ],
      "text/plain": [
       "                               Name    Location  Year  Kilometers_Driven  \\\n",
       "0            Maruti Wagon R LXI CNG      Mumbai  2010              72000   \n",
       "1  Hyundai Creta 1.6 CRDi SX Option        Pune  2015              41000   \n",
       "2                      Honda Jazz V     Chennai  2011              46000   \n",
       "3                 Maruti Ertiga VDI     Chennai  2012              87000   \n",
       "4   Audi A4 New 2.0 TDI Multitronic  Coimbatore  2013              40670   \n",
       "\n",
       "  Fuel_Type Transmission Owner_Type  Mileage   Engine      Power  Seats  \\\n",
       "0       CNG       Manual      First    19.95   998 CC  58.16 bhp   5.00   \n",
       "1    Diesel       Manual      First    19.67  1582 CC  126.2 bhp   5.00   \n",
       "2    Petrol       Manual      First    18.20  1199 CC   88.7 bhp   5.00   \n",
       "3    Diesel       Manual      First    20.77  1248 CC  88.76 bhp   7.00   \n",
       "4    Diesel    Automatic     Second    15.20  1968 CC  140.8 bhp   5.00   \n",
       "\n",
       "   New_Price  Price_USD  \n",
       "0        NaN    2108.43  \n",
       "1        NaN   15060.24  \n",
       "2  8.61 Lakh    5421.69  \n",
       "3        NaN    7228.92  \n",
       "4        NaN   21373.49  "
      ]
     },
     "execution_count": 6,
     "metadata": {},
     "output_type": "execute_result"
    }
   ],
   "source": [
    "# MILEAGE PROBLEM:\n",
    "def convert_mileage(mileage):\n",
    "    # Convert to string to ensure we can check for the unit\n",
    "    if isinstance(mileage, float):\n",
    "        return None  # Handle NaN or any non-string cases as None\n",
    "    \n",
    "    mileage = str(mileage)  # Convert to string for checking\n",
    "    # Check for km/kg and convert to kmpl\n",
    "    if 'km/kg' in mileage:\n",
    "        value = float(mileage.replace('km/kg', '').strip())\n",
    "        return value * 0.75  # Convert km/kg to kmpl (assuming petrol/diesel density)\n",
    "    elif 'kmpl' in mileage:\n",
    "        return float(mileage.replace('kmpl', '').strip())\n",
    "    else:\n",
    "        return None  # Handle cases that don't match\n",
    "\n",
    "# Apply the conversion function to the Mileage column\n",
    "data['Mileage'] = data['Mileage'].apply(convert_mileage)\n",
    "\n",
    "data.head()"
   ]
  },
  {
   "cell_type": "code",
   "execution_count": 7,
   "id": "0e8f107c-6380-434e-9e2e-5efa27652942",
   "metadata": {},
   "outputs": [
    {
     "data": {
      "text/html": [
       "<div>\n",
       "<style scoped>\n",
       "    .dataframe tbody tr th:only-of-type {\n",
       "        vertical-align: middle;\n",
       "    }\n",
       "\n",
       "    .dataframe tbody tr th {\n",
       "        vertical-align: top;\n",
       "    }\n",
       "\n",
       "    .dataframe thead th {\n",
       "        text-align: right;\n",
       "    }\n",
       "</style>\n",
       "<table border=\"1\" class=\"dataframe\">\n",
       "  <thead>\n",
       "    <tr style=\"text-align: right;\">\n",
       "      <th></th>\n",
       "      <th>Name</th>\n",
       "      <th>Location</th>\n",
       "      <th>Year</th>\n",
       "      <th>Kilometers_Driven</th>\n",
       "      <th>Fuel_Type</th>\n",
       "      <th>Transmission</th>\n",
       "      <th>Owner_Type</th>\n",
       "      <th>Mileage</th>\n",
       "      <th>Engine</th>\n",
       "      <th>Power</th>\n",
       "      <th>Seats</th>\n",
       "      <th>New_Price</th>\n",
       "      <th>Price_USD</th>\n",
       "    </tr>\n",
       "  </thead>\n",
       "  <tbody>\n",
       "    <tr>\n",
       "      <th>0</th>\n",
       "      <td>Maruti Wagon R LXI CNG</td>\n",
       "      <td>Mumbai</td>\n",
       "      <td>2010</td>\n",
       "      <td>72000</td>\n",
       "      <td>CNG</td>\n",
       "      <td>Manual</td>\n",
       "      <td>First</td>\n",
       "      <td>19.95</td>\n",
       "      <td>998.00</td>\n",
       "      <td>5816.00</td>\n",
       "      <td>5.00</td>\n",
       "      <td>NaN</td>\n",
       "      <td>2108.43</td>\n",
       "    </tr>\n",
       "    <tr>\n",
       "      <th>1</th>\n",
       "      <td>Hyundai Creta 1.6 CRDi SX Option</td>\n",
       "      <td>Pune</td>\n",
       "      <td>2015</td>\n",
       "      <td>41000</td>\n",
       "      <td>Diesel</td>\n",
       "      <td>Manual</td>\n",
       "      <td>First</td>\n",
       "      <td>19.67</td>\n",
       "      <td>1582.00</td>\n",
       "      <td>1262.00</td>\n",
       "      <td>5.00</td>\n",
       "      <td>NaN</td>\n",
       "      <td>15060.24</td>\n",
       "    </tr>\n",
       "    <tr>\n",
       "      <th>2</th>\n",
       "      <td>Honda Jazz V</td>\n",
       "      <td>Chennai</td>\n",
       "      <td>2011</td>\n",
       "      <td>46000</td>\n",
       "      <td>Petrol</td>\n",
       "      <td>Manual</td>\n",
       "      <td>First</td>\n",
       "      <td>18.20</td>\n",
       "      <td>1199.00</td>\n",
       "      <td>887.00</td>\n",
       "      <td>5.00</td>\n",
       "      <td>8.61 Lakh</td>\n",
       "      <td>5421.69</td>\n",
       "    </tr>\n",
       "    <tr>\n",
       "      <th>3</th>\n",
       "      <td>Maruti Ertiga VDI</td>\n",
       "      <td>Chennai</td>\n",
       "      <td>2012</td>\n",
       "      <td>87000</td>\n",
       "      <td>Diesel</td>\n",
       "      <td>Manual</td>\n",
       "      <td>First</td>\n",
       "      <td>20.77</td>\n",
       "      <td>1248.00</td>\n",
       "      <td>8876.00</td>\n",
       "      <td>7.00</td>\n",
       "      <td>NaN</td>\n",
       "      <td>7228.92</td>\n",
       "    </tr>\n",
       "    <tr>\n",
       "      <th>4</th>\n",
       "      <td>Audi A4 New 2.0 TDI Multitronic</td>\n",
       "      <td>Coimbatore</td>\n",
       "      <td>2013</td>\n",
       "      <td>40670</td>\n",
       "      <td>Diesel</td>\n",
       "      <td>Automatic</td>\n",
       "      <td>Second</td>\n",
       "      <td>15.20</td>\n",
       "      <td>1968.00</td>\n",
       "      <td>1408.00</td>\n",
       "      <td>5.00</td>\n",
       "      <td>NaN</td>\n",
       "      <td>21373.49</td>\n",
       "    </tr>\n",
       "  </tbody>\n",
       "</table>\n",
       "</div>"
      ],
      "text/plain": [
       "                               Name    Location  Year  Kilometers_Driven  \\\n",
       "0            Maruti Wagon R LXI CNG      Mumbai  2010              72000   \n",
       "1  Hyundai Creta 1.6 CRDi SX Option        Pune  2015              41000   \n",
       "2                      Honda Jazz V     Chennai  2011              46000   \n",
       "3                 Maruti Ertiga VDI     Chennai  2012              87000   \n",
       "4   Audi A4 New 2.0 TDI Multitronic  Coimbatore  2013              40670   \n",
       "\n",
       "  Fuel_Type Transmission Owner_Type  Mileage  Engine   Power  Seats  \\\n",
       "0       CNG       Manual      First    19.95  998.00 5816.00   5.00   \n",
       "1    Diesel       Manual      First    19.67 1582.00 1262.00   5.00   \n",
       "2    Petrol       Manual      First    18.20 1199.00  887.00   5.00   \n",
       "3    Diesel       Manual      First    20.77 1248.00 8876.00   7.00   \n",
       "4    Diesel    Automatic     Second    15.20 1968.00 1408.00   5.00   \n",
       "\n",
       "   New_Price  Price_USD  \n",
       "0        NaN    2108.43  \n",
       "1        NaN   15060.24  \n",
       "2  8.61 Lakh    5421.69  \n",
       "3        NaN    7228.92  \n",
       "4        NaN   21373.49  "
      ]
     },
     "execution_count": 7,
     "metadata": {},
     "output_type": "execute_result"
    }
   ],
   "source": [
    "# ENGINE AND POWER PROBLEM:\n",
    "def preprocess_column(column):\n",
    "    # Remove unwanted characters and convert to numeric\n",
    "    return pd.to_numeric(column.str.replace(r'[^0-9]', '', regex=True), errors='coerce')\n",
    "\n",
    "# Apply preprocessing to relevant columns\n",
    "data['Engine'] = preprocess_column(data['Engine'])\n",
    "data['Power'] = preprocess_column(data['Power'])\n",
    "\n",
    "data.head()"
   ]
  },
  {
   "cell_type": "markdown",
   "id": "d5c6637c-3c74-49ab-b71b-ba252618d5b0",
   "metadata": {},
   "source": [
    "**Feature Engineering:**"
   ]
  },
  {
   "cell_type": "code",
   "execution_count": 8,
   "id": "836ed11b-3422-466e-9dd1-a914e30d0818",
   "metadata": {},
   "outputs": [],
   "source": [
    "# As we do have a Year variable, we came to the idea of creating a new variable from this one that is more useful in terms of analysis\n",
    "# Assuming the current year is 2019 as it was the year the dataset was released\n",
    "data['Car_Age'] = 2019 - data['Year']  \n"
   ]
  },
  {
   "cell_type": "code",
   "execution_count": 9,
   "id": "5eaca0c7-cc50-47ba-8455-6d1c1556c2e4",
   "metadata": {},
   "outputs": [
    {
     "data": {
      "text/html": [
       "<div>\n",
       "<style scoped>\n",
       "    .dataframe tbody tr th:only-of-type {\n",
       "        vertical-align: middle;\n",
       "    }\n",
       "\n",
       "    .dataframe tbody tr th {\n",
       "        vertical-align: top;\n",
       "    }\n",
       "\n",
       "    .dataframe thead th {\n",
       "        text-align: right;\n",
       "    }\n",
       "</style>\n",
       "<table border=\"1\" class=\"dataframe\">\n",
       "  <thead>\n",
       "    <tr style=\"text-align: right;\">\n",
       "      <th></th>\n",
       "      <th>Name</th>\n",
       "      <th>Location</th>\n",
       "      <th>Year</th>\n",
       "      <th>Kilometers_Driven</th>\n",
       "      <th>Owner_Type</th>\n",
       "      <th>Mileage</th>\n",
       "      <th>Engine</th>\n",
       "      <th>Power</th>\n",
       "      <th>Seats</th>\n",
       "      <th>New_Price</th>\n",
       "      <th>Price_USD</th>\n",
       "      <th>Car_Age</th>\n",
       "      <th>Fuel_Type_Diesel</th>\n",
       "      <th>Fuel_Type_Electric</th>\n",
       "      <th>Fuel_Type_LPG</th>\n",
       "      <th>Fuel_Type_Petrol</th>\n",
       "      <th>Transmission_Manual</th>\n",
       "      <th>Owner_Type_Encoded</th>\n",
       "    </tr>\n",
       "  </thead>\n",
       "  <tbody>\n",
       "    <tr>\n",
       "      <th>0</th>\n",
       "      <td>Maruti Wagon R LXI CNG</td>\n",
       "      <td>Mumbai</td>\n",
       "      <td>2010</td>\n",
       "      <td>72000</td>\n",
       "      <td>First</td>\n",
       "      <td>19.95</td>\n",
       "      <td>998.00</td>\n",
       "      <td>5816.00</td>\n",
       "      <td>5.00</td>\n",
       "      <td>NaN</td>\n",
       "      <td>2108.43</td>\n",
       "      <td>9</td>\n",
       "      <td>False</td>\n",
       "      <td>False</td>\n",
       "      <td>False</td>\n",
       "      <td>False</td>\n",
       "      <td>True</td>\n",
       "      <td>0</td>\n",
       "    </tr>\n",
       "    <tr>\n",
       "      <th>1</th>\n",
       "      <td>Hyundai Creta 1.6 CRDi SX Option</td>\n",
       "      <td>Pune</td>\n",
       "      <td>2015</td>\n",
       "      <td>41000</td>\n",
       "      <td>First</td>\n",
       "      <td>19.67</td>\n",
       "      <td>1582.00</td>\n",
       "      <td>1262.00</td>\n",
       "      <td>5.00</td>\n",
       "      <td>NaN</td>\n",
       "      <td>15060.24</td>\n",
       "      <td>4</td>\n",
       "      <td>True</td>\n",
       "      <td>False</td>\n",
       "      <td>False</td>\n",
       "      <td>False</td>\n",
       "      <td>True</td>\n",
       "      <td>0</td>\n",
       "    </tr>\n",
       "    <tr>\n",
       "      <th>2</th>\n",
       "      <td>Honda Jazz V</td>\n",
       "      <td>Chennai</td>\n",
       "      <td>2011</td>\n",
       "      <td>46000</td>\n",
       "      <td>First</td>\n",
       "      <td>18.20</td>\n",
       "      <td>1199.00</td>\n",
       "      <td>887.00</td>\n",
       "      <td>5.00</td>\n",
       "      <td>8.61 Lakh</td>\n",
       "      <td>5421.69</td>\n",
       "      <td>8</td>\n",
       "      <td>False</td>\n",
       "      <td>False</td>\n",
       "      <td>False</td>\n",
       "      <td>True</td>\n",
       "      <td>True</td>\n",
       "      <td>0</td>\n",
       "    </tr>\n",
       "    <tr>\n",
       "      <th>3</th>\n",
       "      <td>Maruti Ertiga VDI</td>\n",
       "      <td>Chennai</td>\n",
       "      <td>2012</td>\n",
       "      <td>87000</td>\n",
       "      <td>First</td>\n",
       "      <td>20.77</td>\n",
       "      <td>1248.00</td>\n",
       "      <td>8876.00</td>\n",
       "      <td>7.00</td>\n",
       "      <td>NaN</td>\n",
       "      <td>7228.92</td>\n",
       "      <td>7</td>\n",
       "      <td>True</td>\n",
       "      <td>False</td>\n",
       "      <td>False</td>\n",
       "      <td>False</td>\n",
       "      <td>True</td>\n",
       "      <td>0</td>\n",
       "    </tr>\n",
       "    <tr>\n",
       "      <th>4</th>\n",
       "      <td>Audi A4 New 2.0 TDI Multitronic</td>\n",
       "      <td>Coimbatore</td>\n",
       "      <td>2013</td>\n",
       "      <td>40670</td>\n",
       "      <td>Second</td>\n",
       "      <td>15.20</td>\n",
       "      <td>1968.00</td>\n",
       "      <td>1408.00</td>\n",
       "      <td>5.00</td>\n",
       "      <td>NaN</td>\n",
       "      <td>21373.49</td>\n",
       "      <td>6</td>\n",
       "      <td>True</td>\n",
       "      <td>False</td>\n",
       "      <td>False</td>\n",
       "      <td>False</td>\n",
       "      <td>False</td>\n",
       "      <td>2</td>\n",
       "    </tr>\n",
       "  </tbody>\n",
       "</table>\n",
       "</div>"
      ],
      "text/plain": [
       "                               Name    Location  Year  Kilometers_Driven  \\\n",
       "0            Maruti Wagon R LXI CNG      Mumbai  2010              72000   \n",
       "1  Hyundai Creta 1.6 CRDi SX Option        Pune  2015              41000   \n",
       "2                      Honda Jazz V     Chennai  2011              46000   \n",
       "3                 Maruti Ertiga VDI     Chennai  2012              87000   \n",
       "4   Audi A4 New 2.0 TDI Multitronic  Coimbatore  2013              40670   \n",
       "\n",
       "  Owner_Type  Mileage  Engine   Power  Seats  New_Price  Price_USD  Car_Age  \\\n",
       "0      First    19.95  998.00 5816.00   5.00        NaN    2108.43        9   \n",
       "1      First    19.67 1582.00 1262.00   5.00        NaN   15060.24        4   \n",
       "2      First    18.20 1199.00  887.00   5.00  8.61 Lakh    5421.69        8   \n",
       "3      First    20.77 1248.00 8876.00   7.00        NaN    7228.92        7   \n",
       "4     Second    15.20 1968.00 1408.00   5.00        NaN   21373.49        6   \n",
       "\n",
       "   Fuel_Type_Diesel  Fuel_Type_Electric  Fuel_Type_LPG  Fuel_Type_Petrol  \\\n",
       "0             False               False          False             False   \n",
       "1              True               False          False             False   \n",
       "2             False               False          False              True   \n",
       "3              True               False          False             False   \n",
       "4              True               False          False             False   \n",
       "\n",
       "   Transmission_Manual  Owner_Type_Encoded  \n",
       "0                 True                   0  \n",
       "1                 True                   0  \n",
       "2                 True                   0  \n",
       "3                 True                   0  \n",
       "4                False                   2  "
      ]
     },
     "execution_count": 9,
     "metadata": {},
     "output_type": "execute_result"
    }
   ],
   "source": [
    "# Categorical Encoding:\n",
    "from sklearn.preprocessing import LabelEncoder\n",
    "# One-Hot Encoding for Fuel_Type, Transmission\n",
    "data_encoded = pd.get_dummies(data, columns=['Fuel_Type', 'Transmission'], drop_first=True)\n",
    "\n",
    "# Label Encoding for Owner_Type if ordered categories matter\n",
    "label_encoder = LabelEncoder()\n",
    "data_encoded['Owner_Type_Encoded'] = label_encoder.fit_transform(data['Owner_Type'])\n",
    "data_encoded.head()"
   ]
  },
  {
   "cell_type": "code",
   "execution_count": 10,
   "id": "370faf14-9306-4e90-bdda-d89969f02478",
   "metadata": {},
   "outputs": [
    {
     "name": "stdout",
     "output_type": "stream",
     "text": [
      "True\n",
      "False\n"
     ]
    }
   ],
   "source": [
    "# Check for NA's, Duplicate Values:\n",
    "print(data_encoded.isna().any().any())\n",
    "print(data_encoded.duplicated().any().any())"
   ]
  },
  {
   "cell_type": "code",
   "execution_count": 11,
   "id": "dd1c2a9b-1864-4ea5-a181-a2f51f95c007",
   "metadata": {},
   "outputs": [
    {
     "name": "stdout",
     "output_type": "stream",
     "text": [
      "Name                      0\n",
      "Location                  0\n",
      "Year                      0\n",
      "Kilometers_Driven         0\n",
      "Owner_Type                0\n",
      "Mileage                   2\n",
      "Engine                   36\n",
      "Power                   143\n",
      "Seats                    42\n",
      "New_Price              5195\n",
      "Price_USD                 0\n",
      "Car_Age                   0\n",
      "Fuel_Type_Diesel          0\n",
      "Fuel_Type_Electric        0\n",
      "Fuel_Type_LPG             0\n",
      "Fuel_Type_Petrol          0\n",
      "Transmission_Manual       0\n",
      "Owner_Type_Encoded        0\n",
      "dtype: int64\n"
     ]
    }
   ],
   "source": [
    "# After confirming we do have Na's, lets check how many do we have:\n",
    "na = data_encoded.isna().sum()\n",
    "print(na)"
   ]
  },
  {
   "cell_type": "code",
   "execution_count": 12,
   "id": "2f2adeb0-e53f-4b38-ac45-16163106c2f1",
   "metadata": {},
   "outputs": [
    {
     "data": {
      "text/html": [
       "<div>\n",
       "<style scoped>\n",
       "    .dataframe tbody tr th:only-of-type {\n",
       "        vertical-align: middle;\n",
       "    }\n",
       "\n",
       "    .dataframe tbody tr th {\n",
       "        vertical-align: top;\n",
       "    }\n",
       "\n",
       "    .dataframe thead th {\n",
       "        text-align: right;\n",
       "    }\n",
       "</style>\n",
       "<table border=\"1\" class=\"dataframe\">\n",
       "  <thead>\n",
       "    <tr style=\"text-align: right;\">\n",
       "      <th></th>\n",
       "      <th>Name</th>\n",
       "      <th>Location</th>\n",
       "      <th>Year</th>\n",
       "      <th>Kilometers_Driven</th>\n",
       "      <th>Owner_Type</th>\n",
       "      <th>Mileage</th>\n",
       "      <th>Engine</th>\n",
       "      <th>Power</th>\n",
       "      <th>Seats</th>\n",
       "      <th>Price_USD</th>\n",
       "      <th>Car_Age</th>\n",
       "      <th>Fuel_Type_Diesel</th>\n",
       "      <th>Fuel_Type_Electric</th>\n",
       "      <th>Fuel_Type_LPG</th>\n",
       "      <th>Fuel_Type_Petrol</th>\n",
       "      <th>Transmission_Manual</th>\n",
       "      <th>Owner_Type_Encoded</th>\n",
       "    </tr>\n",
       "  </thead>\n",
       "  <tbody>\n",
       "    <tr>\n",
       "      <th>0</th>\n",
       "      <td>Maruti Wagon R LXI CNG</td>\n",
       "      <td>Mumbai</td>\n",
       "      <td>2010</td>\n",
       "      <td>72000</td>\n",
       "      <td>First</td>\n",
       "      <td>19.95</td>\n",
       "      <td>998.00</td>\n",
       "      <td>5816.00</td>\n",
       "      <td>5.00</td>\n",
       "      <td>2108.43</td>\n",
       "      <td>9</td>\n",
       "      <td>False</td>\n",
       "      <td>False</td>\n",
       "      <td>False</td>\n",
       "      <td>False</td>\n",
       "      <td>True</td>\n",
       "      <td>0</td>\n",
       "    </tr>\n",
       "    <tr>\n",
       "      <th>1</th>\n",
       "      <td>Hyundai Creta 1.6 CRDi SX Option</td>\n",
       "      <td>Pune</td>\n",
       "      <td>2015</td>\n",
       "      <td>41000</td>\n",
       "      <td>First</td>\n",
       "      <td>19.67</td>\n",
       "      <td>1582.00</td>\n",
       "      <td>1262.00</td>\n",
       "      <td>5.00</td>\n",
       "      <td>15060.24</td>\n",
       "      <td>4</td>\n",
       "      <td>True</td>\n",
       "      <td>False</td>\n",
       "      <td>False</td>\n",
       "      <td>False</td>\n",
       "      <td>True</td>\n",
       "      <td>0</td>\n",
       "    </tr>\n",
       "    <tr>\n",
       "      <th>2</th>\n",
       "      <td>Honda Jazz V</td>\n",
       "      <td>Chennai</td>\n",
       "      <td>2011</td>\n",
       "      <td>46000</td>\n",
       "      <td>First</td>\n",
       "      <td>18.20</td>\n",
       "      <td>1199.00</td>\n",
       "      <td>887.00</td>\n",
       "      <td>5.00</td>\n",
       "      <td>5421.69</td>\n",
       "      <td>8</td>\n",
       "      <td>False</td>\n",
       "      <td>False</td>\n",
       "      <td>False</td>\n",
       "      <td>True</td>\n",
       "      <td>True</td>\n",
       "      <td>0</td>\n",
       "    </tr>\n",
       "    <tr>\n",
       "      <th>3</th>\n",
       "      <td>Maruti Ertiga VDI</td>\n",
       "      <td>Chennai</td>\n",
       "      <td>2012</td>\n",
       "      <td>87000</td>\n",
       "      <td>First</td>\n",
       "      <td>20.77</td>\n",
       "      <td>1248.00</td>\n",
       "      <td>8876.00</td>\n",
       "      <td>7.00</td>\n",
       "      <td>7228.92</td>\n",
       "      <td>7</td>\n",
       "      <td>True</td>\n",
       "      <td>False</td>\n",
       "      <td>False</td>\n",
       "      <td>False</td>\n",
       "      <td>True</td>\n",
       "      <td>0</td>\n",
       "    </tr>\n",
       "    <tr>\n",
       "      <th>4</th>\n",
       "      <td>Audi A4 New 2.0 TDI Multitronic</td>\n",
       "      <td>Coimbatore</td>\n",
       "      <td>2013</td>\n",
       "      <td>40670</td>\n",
       "      <td>Second</td>\n",
       "      <td>15.20</td>\n",
       "      <td>1968.00</td>\n",
       "      <td>1408.00</td>\n",
       "      <td>5.00</td>\n",
       "      <td>21373.49</td>\n",
       "      <td>6</td>\n",
       "      <td>True</td>\n",
       "      <td>False</td>\n",
       "      <td>False</td>\n",
       "      <td>False</td>\n",
       "      <td>False</td>\n",
       "      <td>2</td>\n",
       "    </tr>\n",
       "  </tbody>\n",
       "</table>\n",
       "</div>"
      ],
      "text/plain": [
       "                               Name    Location  Year  Kilometers_Driven  \\\n",
       "0            Maruti Wagon R LXI CNG      Mumbai  2010              72000   \n",
       "1  Hyundai Creta 1.6 CRDi SX Option        Pune  2015              41000   \n",
       "2                      Honda Jazz V     Chennai  2011              46000   \n",
       "3                 Maruti Ertiga VDI     Chennai  2012              87000   \n",
       "4   Audi A4 New 2.0 TDI Multitronic  Coimbatore  2013              40670   \n",
       "\n",
       "  Owner_Type  Mileage  Engine   Power  Seats  Price_USD  Car_Age  \\\n",
       "0      First    19.95  998.00 5816.00   5.00    2108.43        9   \n",
       "1      First    19.67 1582.00 1262.00   5.00   15060.24        4   \n",
       "2      First    18.20 1199.00  887.00   5.00    5421.69        8   \n",
       "3      First    20.77 1248.00 8876.00   7.00    7228.92        7   \n",
       "4     Second    15.20 1968.00 1408.00   5.00   21373.49        6   \n",
       "\n",
       "   Fuel_Type_Diesel  Fuel_Type_Electric  Fuel_Type_LPG  Fuel_Type_Petrol  \\\n",
       "0             False               False          False             False   \n",
       "1              True               False          False             False   \n",
       "2             False               False          False              True   \n",
       "3              True               False          False             False   \n",
       "4              True               False          False             False   \n",
       "\n",
       "   Transmission_Manual  Owner_Type_Encoded  \n",
       "0                 True                   0  \n",
       "1                 True                   0  \n",
       "2                 True                   0  \n",
       "3                 True                   0  \n",
       "4                False                   2  "
      ]
     },
     "execution_count": 12,
     "metadata": {},
     "output_type": "execute_result"
    }
   ],
   "source": [
    "# Now we decide what strategy should we choose for handling the missing values, for most of the columns the amount is small so we could impute a general \n",
    "# value such us the mean(If the data is normally distributed) or median(If the data contains outliers or is skewed), \n",
    "# however, the column 'New_Price' has 5195 missing values which is a great amount when we compared to the total amount of rows, 6019, that is \n",
    "# 86.3% of values are NA's so we decided as with 86% missing, this column may not add significant predictive power to our model, \n",
    "# it can introduce noise rather than clarity:\n",
    "\n",
    "# Dropping the New_Price column\n",
    "data_encoded.drop(columns=['New_Price'], inplace=True)\n",
    "data_encoded.head()"
   ]
  },
  {
   "cell_type": "code",
   "execution_count": 13,
   "id": "7770c7e7-262a-4a20-8011-5e62d289b95a",
   "metadata": {},
   "outputs": [
    {
     "data": {
      "text/html": [
       "<div>\n",
       "<style scoped>\n",
       "    .dataframe tbody tr th:only-of-type {\n",
       "        vertical-align: middle;\n",
       "    }\n",
       "\n",
       "    .dataframe tbody tr th {\n",
       "        vertical-align: top;\n",
       "    }\n",
       "\n",
       "    .dataframe thead th {\n",
       "        text-align: right;\n",
       "    }\n",
       "</style>\n",
       "<table border=\"1\" class=\"dataframe\">\n",
       "  <thead>\n",
       "    <tr style=\"text-align: right;\">\n",
       "      <th></th>\n",
       "      <th>Year</th>\n",
       "      <th>Kilometers_Driven</th>\n",
       "      <th>Mileage</th>\n",
       "      <th>Engine</th>\n",
       "      <th>Power</th>\n",
       "      <th>Seats</th>\n",
       "      <th>Price_USD</th>\n",
       "      <th>Car_Age</th>\n",
       "      <th>Owner_Type_Encoded</th>\n",
       "    </tr>\n",
       "  </thead>\n",
       "  <tbody>\n",
       "    <tr>\n",
       "      <th>count</th>\n",
       "      <td>6019.00</td>\n",
       "      <td>6019.00</td>\n",
       "      <td>6017.00</td>\n",
       "      <td>5983.00</td>\n",
       "      <td>5876.00</td>\n",
       "      <td>5977.00</td>\n",
       "      <td>6019.00</td>\n",
       "      <td>6019.00</td>\n",
       "      <td>6019.00</td>\n",
       "    </tr>\n",
       "    <tr>\n",
       "      <th>mean</th>\n",
       "      <td>2013.36</td>\n",
       "      <td>58738.38</td>\n",
       "      <td>18.07</td>\n",
       "      <td>1621.28</td>\n",
       "      <td>2740.11</td>\n",
       "      <td>5.28</td>\n",
       "      <td>11421.05</td>\n",
       "      <td>5.64</td>\n",
       "      <td>0.38</td>\n",
       "    </tr>\n",
       "    <tr>\n",
       "      <th>std</th>\n",
       "      <td>3.27</td>\n",
       "      <td>91268.84</td>\n",
       "      <td>4.51</td>\n",
       "      <td>601.36</td>\n",
       "      <td>5009.67</td>\n",
       "      <td>0.81</td>\n",
       "      <td>13479.42</td>\n",
       "      <td>3.27</td>\n",
       "      <td>0.82</td>\n",
       "    </tr>\n",
       "    <tr>\n",
       "      <th>min</th>\n",
       "      <td>1998.00</td>\n",
       "      <td>171.00</td>\n",
       "      <td>0.00</td>\n",
       "      <td>72.00</td>\n",
       "      <td>35.00</td>\n",
       "      <td>0.00</td>\n",
       "      <td>530.12</td>\n",
       "      <td>0.00</td>\n",
       "      <td>0.00</td>\n",
       "    </tr>\n",
       "    <tr>\n",
       "      <th>25%</th>\n",
       "      <td>2011.00</td>\n",
       "      <td>34000.00</td>\n",
       "      <td>15.10</td>\n",
       "      <td>1198.00</td>\n",
       "      <td>140.00</td>\n",
       "      <td>5.00</td>\n",
       "      <td>4216.87</td>\n",
       "      <td>3.00</td>\n",
       "      <td>0.00</td>\n",
       "    </tr>\n",
       "    <tr>\n",
       "      <th>50%</th>\n",
       "      <td>2014.00</td>\n",
       "      <td>53000.00</td>\n",
       "      <td>18.15</td>\n",
       "      <td>1493.00</td>\n",
       "      <td>838.00</td>\n",
       "      <td>5.00</td>\n",
       "      <td>6795.18</td>\n",
       "      <td>5.00</td>\n",
       "      <td>0.00</td>\n",
       "    </tr>\n",
       "    <tr>\n",
       "      <th>75%</th>\n",
       "      <td>2016.00</td>\n",
       "      <td>73000.00</td>\n",
       "      <td>21.02</td>\n",
       "      <td>1984.00</td>\n",
       "      <td>1685.00</td>\n",
       "      <td>5.00</td>\n",
       "      <td>11987.95</td>\n",
       "      <td>8.00</td>\n",
       "      <td>0.00</td>\n",
       "    </tr>\n",
       "    <tr>\n",
       "      <th>max</th>\n",
       "      <td>2019.00</td>\n",
       "      <td>6500000.00</td>\n",
       "      <td>28.40</td>\n",
       "      <td>5998.00</td>\n",
       "      <td>108495.00</td>\n",
       "      <td>10.00</td>\n",
       "      <td>192771.08</td>\n",
       "      <td>21.00</td>\n",
       "      <td>3.00</td>\n",
       "    </tr>\n",
       "  </tbody>\n",
       "</table>\n",
       "</div>"
      ],
      "text/plain": [
       "         Year  Kilometers_Driven  Mileage  Engine     Power   Seats  \\\n",
       "count 6019.00            6019.00  6017.00 5983.00   5876.00 5977.00   \n",
       "mean  2013.36           58738.38    18.07 1621.28   2740.11    5.28   \n",
       "std      3.27           91268.84     4.51  601.36   5009.67    0.81   \n",
       "min   1998.00             171.00     0.00   72.00     35.00    0.00   \n",
       "25%   2011.00           34000.00    15.10 1198.00    140.00    5.00   \n",
       "50%   2014.00           53000.00    18.15 1493.00    838.00    5.00   \n",
       "75%   2016.00           73000.00    21.02 1984.00   1685.00    5.00   \n",
       "max   2019.00         6500000.00    28.40 5998.00 108495.00   10.00   \n",
       "\n",
       "       Price_USD  Car_Age  Owner_Type_Encoded  \n",
       "count    6019.00  6019.00             6019.00  \n",
       "mean    11421.05     5.64                0.38  \n",
       "std     13479.42     3.27                0.82  \n",
       "min       530.12     0.00                0.00  \n",
       "25%      4216.87     3.00                0.00  \n",
       "50%      6795.18     5.00                0.00  \n",
       "75%     11987.95     8.00                0.00  \n",
       "max    192771.08    21.00                3.00  "
      ]
     },
     "execution_count": 13,
     "metadata": {},
     "output_type": "execute_result"
    }
   ],
   "source": [
    "data_encoded.describe()"
   ]
  },
  {
   "cell_type": "code",
   "execution_count": 14,
   "id": "8438a716-5e7a-428c-8a32-ba7810782c20",
   "metadata": {},
   "outputs": [],
   "source": [
    "# Skewness:\n",
    "#Compare between mean and median\n",
    "\n"
   ]
  },
  {
   "cell_type": "code",
   "execution_count": 15,
   "id": "791390e9-a88f-4a65-a13d-7b455fc44215",
   "metadata": {},
   "outputs": [],
   "source": [
    "# As we see in the output, only 'Seats' variable has NA's, first of all if we analyze the max, min, mean values it does not make sense that there \n",
    "# are cars with 0 seats so those might be incorrect input data, for those values would be intelligent to substitute them by the mean value \n",
    "# which is 5 and the same argument might be use for the missing values:\n",
    "data_encoded['Seats'].fillna(5, inplace=True)\n",
    "data_encoded['Seats'].replace(0, 5, inplace=True)\n",
    "\n",
    "#Same reasoning for Mileage, Engine and Power:\n",
    "data_encoded['Mileage'].fillna(data['Mileage'].mean(), inplace=True)\n",
    "data_encoded['Engine'].fillna(data['Engine'].mean(), inplace=True)\n",
    "data_encoded['Power'].fillna(data['Power'].median(), inplace=True)"
   ]
  },
  {
   "cell_type": "code",
   "execution_count": 16,
   "id": "6116fc5b-d8b1-4631-9430-9816b257e1e9",
   "metadata": {},
   "outputs": [
    {
     "name": "stdout",
     "output_type": "stream",
     "text": [
      "False\n"
     ]
    }
   ],
   "source": [
    "# Confirm we have taken care of Na's:\n",
    "print(data_encoded.isna().any().any())"
   ]
  },
  {
   "cell_type": "code",
   "execution_count": 17,
   "id": "df516c58-a1c8-4779-8b7e-3755084d5c48",
   "metadata": {},
   "outputs": [
    {
     "data": {
      "text/plain": [
       "count      6019.00\n",
       "mean      58738.38\n",
       "std       91268.84\n",
       "min         171.00\n",
       "25%       34000.00\n",
       "50%       53000.00\n",
       "75%       73000.00\n",
       "max     6500000.00\n",
       "Name: Kilometers_Driven, dtype: float64"
      ]
     },
     "execution_count": 17,
     "metadata": {},
     "output_type": "execute_result"
    }
   ],
   "source": [
    "# Now, lets pay attention to the 'Kilometers Driven' variable as we can tell that there are outliers by the min, max, values:\n",
    "data_encoded['Kilometers_Driven'].describe()"
   ]
  },
  {
   "cell_type": "code",
   "execution_count": 18,
   "id": "0f0aa407-ff92-4819-8bbc-a941ef65c69c",
   "metadata": {},
   "outputs": [
    {
     "data": {
      "image/png": "[encoded data removed]",
      "text/plain": [
       "<Figure size 1000x600 with 1 Axes>"
      ]
     },
     "metadata": {},
     "output_type": "display_data"
    }
   ],
   "source": [
    "# Box plot for Kilometers_Driven\n",
    "plt.figure(figsize=(10, 6))\n",
    "sns.boxplot(x=data_encoded['Kilometers_Driven'])\n",
    "plt.title('Box Plot of Kilometers Driven')\n",
    "plt.xlabel('Kilometers Driven')\n",
    "plt.show()"
   ]
  },
  {
   "cell_type": "code",
   "execution_count": 19,
   "id": "c6a2da1f-66d6-4d6e-9f6c-6a96e13d6958",
   "metadata": {},
   "outputs": [
    {
     "data": {
      "text/plain": [
       "count     6019.00\n",
       "mean     56933.31\n",
       "std      32461.35\n",
       "min        171.00\n",
       "25%      34000.00\n",
       "50%      53000.00\n",
       "75%      73000.00\n",
       "max     172829.00\n",
       "Name: Kilometers_Driven, dtype: float64"
      ]
     },
     "execution_count": 19,
     "metadata": {},
     "output_type": "execute_result"
    }
   ],
   "source": [
    "# Huge Outliers that make impossible to visualize the distribution of the values:\n",
    "# Cap Kilometers_Driven at the 99th percentile to handle extreme outliers\n",
    "upper_limit = data_encoded['Kilometers_Driven'].quantile(0.99)\n",
    "data_encoded['Kilometers_Driven'] = data_encoded['Kilometers_Driven'].clip(upper=upper_limit)\n",
    "data_encoded['Kilometers_Driven'].describe()"
   ]
  },
  {
   "cell_type": "code",
   "execution_count": 20,
   "id": "9a7aff82-5320-4f66-a166-d3f93e2b2740",
   "metadata": {},
   "outputs": [
    {
     "data": {
      "image/png": "[encoded data removed]",
      "text/plain": [
       "<Figure size 1000x600 with 1 Axes>"
      ]
     },
     "metadata": {},
     "output_type": "display_data"
    }
   ],
   "source": [
    "# Histogram for Kilometers_Driven\n",
    "plt.figure(figsize=(10, 6))\n",
    "sns.histplot(data_encoded['Kilometers_Driven'], bins=30, kde=True)\n",
    "plt.title('Histogram of Kilometers Driven')\n",
    "plt.xlabel('Kilometers Driven')\n",
    "plt.ylabel('Frequency')\n",
    "plt.axvline(131500, color='red', linestyle='--', label='Outlier Threshold')\n",
    "plt.legend()\n",
    "plt.show()\n",
    "\n",
    "#Calculate the IQR:\n",
    "\n",
    "#IQR = 75th percentile (73,000) - 25th percentile (34,000)\n",
    "#IQR = 73,000 - 34,000 = 39,000\n",
    "#Determine the upper bound for outliers:\n",
    "\n",
    "#Outliers are often considered values that lie beyond 1.5 times the IQR above the 75th percentile.\n",
    "#Upper bound = 75th percentile + 1.5 * IQR\n",
    "#Upper bound = 73,000 + 1.5 * 39,000 = 73,000 + 58,500 = 131,500"
   ]
  },
  {
   "cell_type": "code",
   "execution_count": 21,
   "id": "5a4a018d-0a88-4998-8a15-3f423cdd4900",
   "metadata": {},
   "outputs": [
    {
     "data": {
      "image/png": "[encoded data removed]",
      "text/plain": [
       "<Figure size 1000x600 with 1 Axes>"
      ]
     },
     "metadata": {},
     "output_type": "display_data"
    }
   ],
   "source": [
    "# Box plot for Kilometers_Driven\n",
    "plt.figure(figsize=(10, 6))\n",
    "sns.boxplot(x=data_encoded['Kilometers_Driven'])\n",
    "plt.title('Box Plot of Kilometers Driven')\n",
    "plt.xlabel('Kilometers Driven')\n",
    "plt.show()\n",
    "\n",
    "#In this boxplot we can verify the outlier threshold determined before"
   ]
  },
  {
   "cell_type": "code",
   "execution_count": 22,
   "id": "be77226b-2a6f-4559-84ab-ca9eb3413f0d",
   "metadata": {},
   "outputs": [
    {
     "name": "stdout",
     "output_type": "stream",
     "text": [
      "         Year  Kilometers_Driven  Mileage  Engine    Power   Seats  Price_USD  \\\n",
      "count 6019.00            6019.00  6019.00 6019.00  6019.00 6019.00    6019.00   \n",
      "mean  2013.36           56933.31    18.07 1613.40  2624.60    5.28   11421.05   \n",
      "std      3.27           32461.35     4.51  568.75  4391.92    0.80   13479.42   \n",
      "min   1998.00             171.00     0.00   72.00    35.00    2.00     530.12   \n",
      "25%   2011.00           34000.00    15.10 1198.00   140.00    5.00    4216.87   \n",
      "50%   2014.00           53000.00    18.12 1493.00   838.00    5.00    6795.18   \n",
      "75%   2016.00           73000.00    21.01 1969.00  1685.00    5.00   11987.95   \n",
      "max   2019.00          172829.00    28.40 3161.36 18774.00   10.00  192771.08   \n",
      "\n",
      "       Car_Age  Owner_Type_Encoded  \n",
      "count  6019.00             6019.00  \n",
      "mean      5.64                0.38  \n",
      "std       3.27                0.82  \n",
      "min       0.00                0.00  \n",
      "25%       3.00                0.00  \n",
      "50%       5.00                0.00  \n",
      "75%       8.00                0.00  \n",
      "max      21.00                3.00  \n"
     ]
    }
   ],
   "source": [
    "# HANDLING OUTLIERS FOR REST OF VARIABLES AS WE DID FOR KM_DRIVEN\n",
    "\n",
    "# EXPLAIN WHAT THE FUNCTION DOES\n",
    "def handle_outliers(df, column):\n",
    "    # Get the 99th quantile\n",
    "    q99 = df[column].quantile(0.99)\n",
    "    df[column] = df[column].clip(upper=q99)\n",
    "    return df\n",
    "\n",
    "data_encoded = handle_outliers(data_encoded, 'Power')\n",
    "data_encoded = handle_outliers(data_encoded, 'Engine')\n",
    "\n",
    "# Display the updated dataframe\n",
    "print(data_encoded.describe())"
   ]
  },
  {
   "cell_type": "code",
   "execution_count": 23,
   "id": "d49b9bad-b81b-482c-a599-e2f06f3a4d81",
   "metadata": {},
   "outputs": [
    {
     "data": {
      "image/png": "[encoded data removed]",
      "text/plain": [
       "<Figure size 1000x600 with 1 Axes>"
      ]
     },
     "metadata": {},
     "output_type": "display_data"
    },
    {
     "data": {
      "image/png": "[encoded data removed]",
      "text/plain": [
       "<Figure size 1000x600 with 1 Axes>"
      ]
     },
     "metadata": {},
     "output_type": "display_data"
    }
   ],
   "source": [
    "# Boxplot for Power after outlier handling\n",
    "plt.figure(figsize=(10, 6))\n",
    "sns.boxplot(x=data_encoded['Power'])\n",
    "plt.title('Boxplot for Power')\n",
    "plt.show()\n",
    "\n",
    "# Boxplot for Engine after outlier handling\n",
    "plt.figure(figsize=(10, 6))\n",
    "sns.boxplot(x=data_encoded['Engine'])\n",
    "plt.title('Boxplot for Engine ')\n",
    "plt.show()"
   ]
  },
  {
   "cell_type": "code",
   "execution_count": 24,
   "id": "cb0bf4ff-8c3c-4510-bebb-cac387573732",
   "metadata": {},
   "outputs": [
    {
     "name": "stdout",
     "output_type": "stream",
     "text": [
      "       Kilometers_Driven    Power\n",
      "count            6019.00  6019.00\n",
      "mean            56933.31  2624.60\n",
      "std             32461.35  4391.92\n",
      "min               171.00    35.00\n",
      "25%             34000.00   140.00\n",
      "50%             53000.00   838.00\n",
      "75%             73000.00  1685.00\n",
      "max            172829.00 18774.00\n",
      "       Sqrt_Kilometers_Driven  Log_Power\n",
      "count                 6019.00    6019.00\n",
      "mean                   228.53       6.56\n",
      "std                     68.63       1.69\n",
      "min                     13.08       3.56\n",
      "25%                    184.39       4.94\n",
      "50%                    230.22       6.73\n",
      "75%                    270.19       7.43\n",
      "max                    415.73       9.84\n"
     ]
    }
   ],
   "source": [
    "# As we  can visualize, this handle_outliers method we created it was useful for Engine but for Kilometers Driven and Power \n",
    "# it only got rid of extreme outliers but we still have a notable amount of them\n",
    "\n",
    "# For that we are going to apply Square Root Transformation and Log transformation to these variables in order to handle not only outliers but also left_skewed data \n",
    "# Make a copy of the dataset to avoid modifying the original data\n",
    "data_transformed = data_encoded.copy()\n",
    "\n",
    "# Sqrt transform Kilometers_Driven and Power\n",
    "data_transformed['Sqrt_Kilometers_Driven'] = np.sqrt(data_transformed['Kilometers_Driven'])\n",
    "data_transformed['Log_Power'] = np.log(data_transformed['Power'])\n",
    "\n",
    "# Summary statistics before and after transformation\n",
    "print(data_encoded[['Kilometers_Driven', 'Power']].describe())\n",
    "print(data_transformed[['Sqrt_Kilometers_Driven', 'Log_Power']].describe())"
   ]
  },
  {
   "cell_type": "code",
   "execution_count": 25,
   "id": "157d6a4b-5f33-477f-bfe6-0b715b5022d0",
   "metadata": {},
   "outputs": [
    {
     "data": {
      "image/png": "[encoded data removed]",
      "text/plain": [
       "<Figure size 1200x600 with 2 Axes>"
      ]
     },
     "metadata": {},
     "output_type": "display_data"
    }
   ],
   "source": [
    "plt.figure(figsize=(12, 6))\n",
    "\n",
    "# Original Kilometers_Driven\n",
    "plt.subplot(1, 2, 1)\n",
    "sns.histplot(data_encoded['Kilometers_Driven'], bins=30, kde=True)\n",
    "plt.title('Distribution of Kilometers Driven (Original)')\n",
    "\n",
    "# Sqrt-transformed Kilometers_Driven\n",
    "plt.subplot(1, 2, 2)\n",
    "sns.histplot(data_transformed['Sqrt_Kilometers_Driven'], bins=30, kde=True)\n",
    "plt.title('Distribution of Kilometers Driven (Sqrt Transformed)')\n",
    "\n",
    "plt.tight_layout()\n",
    "plt.show()"
   ]
  },
  {
   "cell_type": "code",
   "execution_count": 26,
   "id": "f7c13ff6-2177-4b79-ac8c-a1b524719995",
   "metadata": {},
   "outputs": [
    {
     "data": {
      "image/png": "[encoded data removed]",
      "text/plain": [
       "<Figure size 1200x600 with 2 Axes>"
      ]
     },
     "metadata": {},
     "output_type": "display_data"
    }
   ],
   "source": [
    "plt.figure(figsize=(12, 6))\n",
    "\n",
    "# Original Power\n",
    "plt.subplot(1, 2, 1)\n",
    "sns.histplot(data_encoded['Power'], bins=30, kde=True)\n",
    "plt.title('Distribution of Power (Original)')\n",
    "\n",
    "# Log-transformed Power (ensure this column is in your transformed DataFrame)\n",
    "plt.subplot(1, 2, 2)\n",
    "sns.histplot(data_transformed['Log_Power'], bins=30, kde=True)  # Make sure Log_Power exists in your transformed DataFrame\n",
    "plt.title('Distribution of Power (Log Transformed)')\n",
    "\n",
    "plt.tight_layout()\n",
    "plt.show()\n"
   ]
  },
  {
   "cell_type": "code",
   "execution_count": 27,
   "id": "bb4217f4-8fc3-430f-b9b4-86ca3c7a0358",
   "metadata": {},
   "outputs": [
    {
     "data": {
      "image/png": "[encoded data removed]",
      "text/plain": [
       "<Figure size 1000x600 with 1 Axes>"
      ]
     },
     "metadata": {},
     "output_type": "display_data"
    }
   ],
   "source": [
    "#SOME INSIGHT AFTER HANDLING OUTLIERS PLUS INTRO TO WHY STANDARDIZATION\n",
    "plt.figure(figsize=(10, 6))\n",
    "sns.boxplot(x=data_transformed['Log_Power'])\n",
    "plt.title('Boxplot for Power')\n",
    "plt.show()"
   ]
  },
  {
   "cell_type": "code",
   "execution_count": 28,
   "id": "3d4cbf7a-3c63-4caf-8588-677f2da5c33e",
   "metadata": {},
   "outputs": [
    {
     "data": {
      "text/html": [
       "<div>\n",
       "<style scoped>\n",
       "    .dataframe tbody tr th:only-of-type {\n",
       "        vertical-align: middle;\n",
       "    }\n",
       "\n",
       "    .dataframe tbody tr th {\n",
       "        vertical-align: top;\n",
       "    }\n",
       "\n",
       "    .dataframe thead th {\n",
       "        text-align: right;\n",
       "    }\n",
       "</style>\n",
       "<table border=\"1\" class=\"dataframe\">\n",
       "  <thead>\n",
       "    <tr style=\"text-align: right;\">\n",
       "      <th></th>\n",
       "      <th>Year</th>\n",
       "      <th>Kilometers_Driven</th>\n",
       "      <th>Mileage</th>\n",
       "      <th>Engine</th>\n",
       "      <th>Power</th>\n",
       "      <th>Seats</th>\n",
       "      <th>Price_USD</th>\n",
       "      <th>Car_Age</th>\n",
       "      <th>Owner_Type_Encoded</th>\n",
       "      <th>Sqrt_Kilometers_Driven</th>\n",
       "      <th>Log_Power</th>\n",
       "    </tr>\n",
       "  </thead>\n",
       "  <tbody>\n",
       "    <tr>\n",
       "      <th>count</th>\n",
       "      <td>6019.00</td>\n",
       "      <td>6019.00</td>\n",
       "      <td>6019.00</td>\n",
       "      <td>6019.00</td>\n",
       "      <td>6019.00</td>\n",
       "      <td>6019.00</td>\n",
       "      <td>6019.00</td>\n",
       "      <td>6019.00</td>\n",
       "      <td>6019.00</td>\n",
       "      <td>6019.00</td>\n",
       "      <td>6019.00</td>\n",
       "    </tr>\n",
       "    <tr>\n",
       "      <th>mean</th>\n",
       "      <td>2013.36</td>\n",
       "      <td>56933.31</td>\n",
       "      <td>-0.00</td>\n",
       "      <td>0.00</td>\n",
       "      <td>2624.60</td>\n",
       "      <td>5.28</td>\n",
       "      <td>11421.05</td>\n",
       "      <td>5.64</td>\n",
       "      <td>0.38</td>\n",
       "      <td>0.00</td>\n",
       "      <td>0.00</td>\n",
       "    </tr>\n",
       "    <tr>\n",
       "      <th>std</th>\n",
       "      <td>3.27</td>\n",
       "      <td>32461.35</td>\n",
       "      <td>1.00</td>\n",
       "      <td>1.00</td>\n",
       "      <td>4391.92</td>\n",
       "      <td>0.80</td>\n",
       "      <td>13479.42</td>\n",
       "      <td>3.27</td>\n",
       "      <td>0.82</td>\n",
       "      <td>1.00</td>\n",
       "      <td>1.00</td>\n",
       "    </tr>\n",
       "    <tr>\n",
       "      <th>min</th>\n",
       "      <td>1998.00</td>\n",
       "      <td>171.00</td>\n",
       "      <td>-4.00</td>\n",
       "      <td>-2.71</td>\n",
       "      <td>35.00</td>\n",
       "      <td>2.00</td>\n",
       "      <td>530.12</td>\n",
       "      <td>0.00</td>\n",
       "      <td>0.00</td>\n",
       "      <td>-3.14</td>\n",
       "      <td>-1.78</td>\n",
       "    </tr>\n",
       "    <tr>\n",
       "      <th>25%</th>\n",
       "      <td>2011.00</td>\n",
       "      <td>34000.00</td>\n",
       "      <td>-0.66</td>\n",
       "      <td>-0.73</td>\n",
       "      <td>140.00</td>\n",
       "      <td>5.00</td>\n",
       "      <td>4216.87</td>\n",
       "      <td>3.00</td>\n",
       "      <td>0.00</td>\n",
       "      <td>-0.64</td>\n",
       "      <td>-0.96</td>\n",
       "    </tr>\n",
       "    <tr>\n",
       "      <th>50%</th>\n",
       "      <td>2014.00</td>\n",
       "      <td>53000.00</td>\n",
       "      <td>0.01</td>\n",
       "      <td>-0.21</td>\n",
       "      <td>838.00</td>\n",
       "      <td>5.00</td>\n",
       "      <td>6795.18</td>\n",
       "      <td>5.00</td>\n",
       "      <td>0.00</td>\n",
       "      <td>0.02</td>\n",
       "      <td>0.10</td>\n",
       "    </tr>\n",
       "    <tr>\n",
       "      <th>75%</th>\n",
       "      <td>2016.00</td>\n",
       "      <td>73000.00</td>\n",
       "      <td>0.65</td>\n",
       "      <td>0.63</td>\n",
       "      <td>1685.00</td>\n",
       "      <td>5.00</td>\n",
       "      <td>11987.95</td>\n",
       "      <td>8.00</td>\n",
       "      <td>0.00</td>\n",
       "      <td>0.61</td>\n",
       "      <td>0.52</td>\n",
       "    </tr>\n",
       "    <tr>\n",
       "      <th>max</th>\n",
       "      <td>2019.00</td>\n",
       "      <td>172829.00</td>\n",
       "      <td>2.29</td>\n",
       "      <td>2.72</td>\n",
       "      <td>18774.00</td>\n",
       "      <td>10.00</td>\n",
       "      <td>192771.08</td>\n",
       "      <td>21.00</td>\n",
       "      <td>3.00</td>\n",
       "      <td>2.73</td>\n",
       "      <td>1.95</td>\n",
       "    </tr>\n",
       "  </tbody>\n",
       "</table>\n",
       "</div>"
      ],
      "text/plain": [
       "         Year  Kilometers_Driven  Mileage  Engine    Power   Seats  Price_USD  \\\n",
       "count 6019.00            6019.00  6019.00 6019.00  6019.00 6019.00    6019.00   \n",
       "mean  2013.36           56933.31    -0.00    0.00  2624.60    5.28   11421.05   \n",
       "std      3.27           32461.35     1.00    1.00  4391.92    0.80   13479.42   \n",
       "min   1998.00             171.00    -4.00   -2.71    35.00    2.00     530.12   \n",
       "25%   2011.00           34000.00    -0.66   -0.73   140.00    5.00    4216.87   \n",
       "50%   2014.00           53000.00     0.01   -0.21   838.00    5.00    6795.18   \n",
       "75%   2016.00           73000.00     0.65    0.63  1685.00    5.00   11987.95   \n",
       "max   2019.00          172829.00     2.29    2.72 18774.00   10.00  192771.08   \n",
       "\n",
       "       Car_Age  Owner_Type_Encoded  Sqrt_Kilometers_Driven  Log_Power  \n",
       "count  6019.00             6019.00                 6019.00    6019.00  \n",
       "mean      5.64                0.38                    0.00       0.00  \n",
       "std       3.27                0.82                    1.00       1.00  \n",
       "min       0.00                0.00                   -3.14      -1.78  \n",
       "25%       3.00                0.00                   -0.64      -0.96  \n",
       "50%       5.00                0.00                    0.02       0.10  \n",
       "75%       8.00                0.00                    0.61       0.52  \n",
       "max      21.00                3.00                    2.73       1.95  "
      ]
     },
     "execution_count": 28,
     "metadata": {},
     "output_type": "execute_result"
    }
   ],
   "source": [
    "# STANDARDIZE VARIABLES\n",
    "from sklearn.preprocessing import StandardScaler\n",
    "features_to_scale = ['Sqrt_Kilometers_Driven', 'Engine', 'Log_Power', 'Mileage']\n",
    "# Initialize the scaler\n",
    "scaler = StandardScaler()\n",
    "# Fit and transform the features\n",
    "data_transformed[features_to_scale] = scaler.fit_transform(data_transformed[features_to_scale])\n",
    "\n",
    "# Check results:\n",
    "data_transformed.describe()"
   ]
  },
  {
   "cell_type": "code",
   "execution_count": 29,
   "id": "6d597936-8074-4c30-8190-0ba9669e5714",
   "metadata": {},
   "outputs": [
    {
     "data": {
      "image/png": "[encoded data removed]",
      "text/plain": [
       "<Figure size 1000x600 with 1 Axes>"
      ]
     },
     "metadata": {},
     "output_type": "display_data"
    }
   ],
   "source": [
    "scaled_features = ['Sqrt_Kilometers_Driven', 'Engine', 'Log_Power', 'Mileage']\n",
    "\n",
    "# Create a boxplot\n",
    "plt.figure(figsize=(10, 6))\n",
    "sns.boxplot(data=data_transformed[scaled_features])\n",
    "plt.title('Scaled Features')\n",
    "plt.show()"
   ]
  },
  {
   "cell_type": "code",
   "execution_count": 30,
   "id": "83005c7a-46f1-4c66-8df8-cfd09b805c40",
   "metadata": {},
   "outputs": [
    {
     "data": {
      "image/png": "[encoded data removed]",
      "text/plain": [
       "<Figure size 1200x800 with 4 Axes>"
      ]
     },
     "metadata": {},
     "output_type": "display_data"
    }
   ],
   "source": [
    "# Histogram for each scaled feature\n",
    "data_transformed[scaled_features].hist(bins=30, figsize=(12, 8))\n",
    "plt.suptitle('Scaled Features')\n",
    "plt.show()"
   ]
  },
  {
   "cell_type": "code",
   "execution_count": 31,
   "id": "c6cce553-c2e7-4fe5-9ea0-ed6629cd2bf3",
   "metadata": {},
   "outputs": [
    {
     "data": {
      "text/html": [
       "<div>\n",
       "<style scoped>\n",
       "    .dataframe tbody tr th:only-of-type {\n",
       "        vertical-align: middle;\n",
       "    }\n",
       "\n",
       "    .dataframe tbody tr th {\n",
       "        vertical-align: top;\n",
       "    }\n",
       "\n",
       "    .dataframe thead th {\n",
       "        text-align: right;\n",
       "    }\n",
       "</style>\n",
       "<table border=\"1\" class=\"dataframe\">\n",
       "  <thead>\n",
       "    <tr style=\"text-align: right;\">\n",
       "      <th></th>\n",
       "      <th>Price_USD</th>\n",
       "      <th>Sqrt_Kilometers_Driven</th>\n",
       "      <th>Mileage</th>\n",
       "      <th>Log_Power</th>\n",
       "      <th>Seats</th>\n",
       "      <th>Car_Age</th>\n",
       "      <th>Engine</th>\n",
       "      <th>Owner_Type_Encoded</th>\n",
       "    </tr>\n",
       "  </thead>\n",
       "  <tbody>\n",
       "    <tr>\n",
       "      <th>Price_USD</th>\n",
       "      <td>1.00</td>\n",
       "      <td>-0.20</td>\n",
       "      <td>-0.30</td>\n",
       "      <td>0.11</td>\n",
       "      <td>0.05</td>\n",
       "      <td>-0.31</td>\n",
       "      <td>0.64</td>\n",
       "      <td>-0.09</td>\n",
       "    </tr>\n",
       "    <tr>\n",
       "      <th>Sqrt_Kilometers_Driven</th>\n",
       "      <td>-0.20</td>\n",
       "      <td>1.00</td>\n",
       "      <td>-0.15</td>\n",
       "      <td>-0.16</td>\n",
       "      <td>0.22</td>\n",
       "      <td>0.53</td>\n",
       "      <td>0.18</td>\n",
       "      <td>0.24</td>\n",
       "    </tr>\n",
       "    <tr>\n",
       "      <th>Mileage</th>\n",
       "      <td>-0.30</td>\n",
       "      <td>-0.15</td>\n",
       "      <td>1.00</td>\n",
       "      <td>0.07</td>\n",
       "      <td>-0.30</td>\n",
       "      <td>-0.33</td>\n",
       "      <td>-0.59</td>\n",
       "      <td>-0.16</td>\n",
       "    </tr>\n",
       "    <tr>\n",
       "      <th>Log_Power</th>\n",
       "      <td>0.11</td>\n",
       "      <td>-0.16</td>\n",
       "      <td>0.07</td>\n",
       "      <td>1.00</td>\n",
       "      <td>-0.11</td>\n",
       "      <td>-0.23</td>\n",
       "      <td>0.00</td>\n",
       "      <td>-0.09</td>\n",
       "    </tr>\n",
       "    <tr>\n",
       "      <th>Seats</th>\n",
       "      <td>0.05</td>\n",
       "      <td>0.22</td>\n",
       "      <td>-0.30</td>\n",
       "      <td>-0.11</td>\n",
       "      <td>1.00</td>\n",
       "      <td>-0.01</td>\n",
       "      <td>0.43</td>\n",
       "      <td>0.00</td>\n",
       "    </tr>\n",
       "    <tr>\n",
       "      <th>Car_Age</th>\n",
       "      <td>-0.31</td>\n",
       "      <td>0.53</td>\n",
       "      <td>-0.33</td>\n",
       "      <td>-0.23</td>\n",
       "      <td>-0.01</td>\n",
       "      <td>1.00</td>\n",
       "      <td>0.05</td>\n",
       "      <td>0.39</td>\n",
       "    </tr>\n",
       "    <tr>\n",
       "      <th>Engine</th>\n",
       "      <td>0.64</td>\n",
       "      <td>0.18</td>\n",
       "      <td>-0.59</td>\n",
       "      <td>0.00</td>\n",
       "      <td>0.43</td>\n",
       "      <td>0.05</td>\n",
       "      <td>1.00</td>\n",
       "      <td>0.05</td>\n",
       "    </tr>\n",
       "    <tr>\n",
       "      <th>Owner_Type_Encoded</th>\n",
       "      <td>-0.09</td>\n",
       "      <td>0.24</td>\n",
       "      <td>-0.16</td>\n",
       "      <td>-0.09</td>\n",
       "      <td>0.00</td>\n",
       "      <td>0.39</td>\n",
       "      <td>0.05</td>\n",
       "      <td>1.00</td>\n",
       "    </tr>\n",
       "  </tbody>\n",
       "</table>\n",
       "</div>"
      ],
      "text/plain": [
       "                        Price_USD  Sqrt_Kilometers_Driven  Mileage  Log_Power  \\\n",
       "Price_USD                    1.00                   -0.20    -0.30       0.11   \n",
       "Sqrt_Kilometers_Driven      -0.20                    1.00    -0.15      -0.16   \n",
       "Mileage                     -0.30                   -0.15     1.00       0.07   \n",
       "Log_Power                    0.11                   -0.16     0.07       1.00   \n",
       "Seats                        0.05                    0.22    -0.30      -0.11   \n",
       "Car_Age                     -0.31                    0.53    -0.33      -0.23   \n",
       "Engine                       0.64                    0.18    -0.59       0.00   \n",
       "Owner_Type_Encoded          -0.09                    0.24    -0.16      -0.09   \n",
       "\n",
       "                        Seats  Car_Age  Engine  Owner_Type_Encoded  \n",
       "Price_USD                0.05    -0.31    0.64               -0.09  \n",
       "Sqrt_Kilometers_Driven   0.22     0.53    0.18                0.24  \n",
       "Mileage                 -0.30    -0.33   -0.59               -0.16  \n",
       "Log_Power               -0.11    -0.23    0.00               -0.09  \n",
       "Seats                    1.00    -0.01    0.43                0.00  \n",
       "Car_Age                 -0.01     1.00    0.05                0.39  \n",
       "Engine                   0.43     0.05    1.00                0.05  \n",
       "Owner_Type_Encoded       0.00     0.39    0.05                1.00  "
      ]
     },
     "execution_count": 31,
     "metadata": {},
     "output_type": "execute_result"
    }
   ],
   "source": [
    "# Correlation matrix\n",
    "cor_var = ['Price_USD','Sqrt_Kilometers_Driven','Mileage','Log_Power','Seats','Car_Age', 'Engine', 'Owner_Type_Encoded']\n",
    "data = data_transformed[cor_var]\n",
    "data.corr()"
   ]
  },
  {
   "cell_type": "markdown",
   "id": "6bdce4f9-d945-4aa1-8763-c6d37903c610",
   "metadata": {},
   "source": [
    "**Price_USD vs. Engine**: The high positive correlation (0.64) suggests that as the engine size increases, the price of the car increases, which makes sense since larger engines are typically found in more expensive cars.\n",
    "\n",
    "**Price_USD vs. Car_Age**: The negative correlation (-0.31) indicates that as cars get older, their price decreases, which is intuitive.\n",
    "\n",
    "**Price_USD vs. Mileage**: A negative correlation (-0.30) is reasonable because cars with higher mileage (better fuel efficiency) are often more economical and may have lower price tags.\n",
    "\n",
    "**Price_USD vs. Kilometers_Driven**: The weak negative correlation (-0.20) with Price_USD  suggest that while higher km generally lowers price."
   ]
  },
  {
   "cell_type": "code",
   "execution_count": 32,
   "id": "4711600e-ef17-4fdb-9414-2f831ec3c5c3",
   "metadata": {},
   "outputs": [
    {
     "data": {
      "text/plain": [
       "<Axes: >"
      ]
     },
     "execution_count": 32,
     "metadata": {},
     "output_type": "execute_result"
    },
    {
     "data": {
      "image/png": "[encoded data removed]",
      "text/plain": [
       "<Figure size 640x480 with 2 Axes>"
      ]
     },
     "metadata": {},
     "output_type": "display_data"
    }
   ],
   "source": [
    "sns.heatmap(data.corr())"
   ]
  },
  {
   "cell_type": "markdown",
   "id": "d6af2a0d-01d0-4b7d-aec0-04459583e98f",
   "metadata": {},
   "source": [
    "## **DATA SPLIT**"
   ]
  },
  {
   "cell_type": "code",
   "execution_count": 33,
   "id": "02fa6452-5d5f-4d8d-b329-2e4eda8f1db1",
   "metadata": {},
   "outputs": [
    {
     "data": {
      "text/plain": [
       "(4213, 1806)"
      ]
     },
     "execution_count": 33,
     "metadata": {},
     "output_type": "execute_result"
    }
   ],
   "source": [
    "# Split the dataset\n",
    "from sklearn.model_selection import train_test_split\n",
    "\n",
    "# Start with a model of predictors of the most \n",
    "predictors = ['Sqrt_Kilometers_Driven', 'Mileage', 'Log_Power', 'Seats', 'Car_Age', 'Engine', 'Owner_Type_Encoded', 'Fuel_Type_Diesel',\t'Fuel_Type_Electric', 'Fuel_Type_LPG', 'Fuel_Type_Petrol']\n",
    "data_X = data_transformed[predictors]\n",
    "data_Y = data_transformed['Price_USD']\n",
    "\n",
    "#Randomly split the dataset into 70% training and 30% validation.\n",
    "X_train, X_test, y_train, y_test = train_test_split(data_X, data_Y, test_size=0.3, random_state=42)\n",
    "\n",
    "# show number of observations in the training set and the test set\n",
    "X_train.shape[0], X_test.shape[0]"
   ]
  },
  {
   "cell_type": "markdown",
   "id": "a71a9e85-3f84-400b-8ede-9cdfb781beb8",
   "metadata": {},
   "source": [
    "## **MODEL SELECTION**\n",
    "\n",
    "- Recall that our objective is to develop a regression model that predicts the price of used cars.\n",
    "- For that, we will train a few different models from simpler ones like linear regression to more complexs like KNN"
   ]
  },
  {
   "cell_type": "markdown",
   "id": "40fe7f50-b2d3-4e31-8dec-2fd274ac61a1",
   "metadata": {},
   "source": [
    "**Linear Regression**"
   ]
  },
  {
   "cell_type": "code",
   "execution_count": 34,
   "id": "de8221e6-877a-4dcb-ac84-2bb19160fe8e",
   "metadata": {},
   "outputs": [
    {
     "data": {
      "text/plain": [
       "(array([-2280.38786814, -1689.93565399,   146.16879507, -4974.15988361,\n",
       "        -1181.34818561,  9174.24670673,   285.56410854,  1135.97541992,\n",
       "        24420.98736615,  1410.35025345, -2355.9461051 ]),\n",
       " 44605.90738516764)"
      ]
     },
     "execution_count": 34,
     "metadata": {},
     "output_type": "execute_result"
    }
   ],
   "source": [
    "# As we said we will start with simple models like linear regression, and it will be used as a benchmark for the rest of the models:\n",
    "## LINEAR REGRESSION:\n",
    "from sklearn.linear_model import LinearRegression\n",
    "lr = LinearRegression()\n",
    "\n",
    "# Fit the model\n",
    "lr.fit(X_train, y_train)\n",
    "\n",
    "# Print out the coefficients\n",
    "lr.coef_, lr.intercept_"
   ]
  },
  {
   "cell_type": "markdown",
   "id": "5ff46453-12ab-47dd-9a3c-5dd01e8d7afe",
   "metadata": {},
   "source": [
    "**y** = -1713.6555184 * **x_'Sqrt_Km_Driven'** - 613.42680669 * **x_'Mileage'** - 84.86016032 * **x_'Log_Power'** - 3758.50189519 * **x_'Seats'** - 992.86286798 * **x_'Car_Age'** + 8591.77217244 * **x_'Engine'** + 36052.22401608031"
   ]
  },
  {
   "cell_type": "code",
   "execution_count": 35,
   "id": "66143cbd-4ad0-496c-be4f-34e4c54cedde",
   "metadata": {},
   "outputs": [
    {
     "name": "stdout",
     "output_type": "stream",
     "text": [
      "5416.937480994505 68781541.62948115 0.6147632688748518\n"
     ]
    }
   ],
   "source": [
    "# Test set prediction\n",
    "y_pred_test = lr.predict(X_test)\n",
    "\n",
    "# Model Performance measured with MAE, MSE, R^2:\n",
    "print(mae(y_test, y_pred_test), mse(y_test, y_pred_test) ,r2_score(y_test, y_pred_test))\n"
   ]
  },
  {
   "cell_type": "code",
   "execution_count": 36,
   "id": "abce0af6-a835-4002-8a75-14c4d53b2908",
   "metadata": {},
   "outputs": [
    {
     "data": {
      "text/plain": [
       "(0.6147632688748518, 0.6140175775447275)"
      ]
     },
     "execution_count": 36,
     "metadata": {},
     "output_type": "execute_result"
    }
   ],
   "source": [
    "# Faster performance measure:\n",
    "lr.score(X_test, y_test), lr.score(X_train, y_train)"
   ]
  },
  {
   "cell_type": "markdown",
   "id": "eae891e3-6c76-42a3-9971-b6b2b854feed",
   "metadata": {},
   "source": [
    "As we clarified before, this linear regression model is going to be used as a benchmark as it is the simplest one of all"
   ]
  },
  {
   "cell_type": "markdown",
   "id": "80ee859c-c3e5-4925-81aa-4ff91dbfb5b7",
   "metadata": {},
   "source": [
    "**RANDOM FOREST**"
   ]
  },
  {
   "cell_type": "code",
   "execution_count": 37,
   "id": "4ba9647b-870f-4e36-b8ef-f6a636d3b892",
   "metadata": {},
   "outputs": [
    {
     "data": {
      "image/png": "[encoded data removed]",
      "text/plain": [
       "<Figure size 640x480 with 1 Axes>"
      ]
     },
     "metadata": {},
     "output_type": "display_data"
    }
   ],
   "source": [
    "# RANDOM FOREST:\n",
    "from sklearn.ensemble import RandomForestRegressor\n",
    "# Train a random forest model\n",
    "rf = RandomForestRegressor()\n",
    "rf.fit(X_train, y_train)\n",
    "\n",
    "# Get feature importance\n",
    "importance = pd.Series(rf.feature_importances_, index=X_train.columns)\n",
    "\n",
    "# Plot feature importance\n",
    "importance.sort_values(ascending=False).plot(kind='bar')\n",
    "plt.show()"
   ]
  },
  {
   "cell_type": "code",
   "execution_count": 38,
   "id": "3373d7c6-ede3-4b34-844e-a9c068f9f51f",
   "metadata": {},
   "outputs": [
    {
     "name": "stdout",
     "output_type": "stream",
     "text": [
      "2316.9033063117845 28299075.183900278 0.8415004526005303\n"
     ]
    }
   ],
   "source": [
    "# Test set prediction\n",
    "y_pred_test = rf.predict(X_test)\n",
    "\n",
    "# Model Performance measured with MAE, MSE, R^2:\n",
    "print(mae(y_test, y_pred_test), mse(y_test, y_pred_test) ,r2_score(y_test, y_pred_test))"
   ]
  },
  {
   "cell_type": "code",
   "execution_count": 39,
   "id": "6e0c8a67-9e93-46e7-a357-cab27a1f3474",
   "metadata": {},
   "outputs": [
    {
     "data": {
      "text/plain": [
       "(0.8415004526005303, 0.9796836805733801)"
      ]
     },
     "execution_count": 39,
     "metadata": {},
     "output_type": "execute_result"
    }
   ],
   "source": [
    "rf.score(X_test, y_test), rf.score(X_train, y_train)"
   ]
  },
  {
   "cell_type": "code",
   "execution_count": 40,
   "id": "ec1906ec-49a4-410d-bef3-987b667df78d",
   "metadata": {},
   "outputs": [
    {
     "name": "stdout",
     "output_type": "stream",
     "text": [
      "0.8516155897434569\n"
     ]
    }
   ],
   "source": [
    "from sklearn.model_selection import cross_val_score\n",
    "\n",
    "# Mean cross-validated R^2 score\n",
    "scores = cross_val_score(rf, X_train, y_train, cv=5, scoring='r2')\n",
    "print(scores.mean())  \n"
   ]
  },
  {
   "cell_type": "markdown",
   "id": "73df8c7a-8e9f-47e7-aa44-55f28a584887",
   "metadata": {},
   "source": [
    "- The noticeable difference between the training and test accuracies suggests that the model might be overfitting to the training data.\n",
    "- We will try simpler model just with the most important variables acording to our randomforest model:"
   ]
  },
  {
   "cell_type": "code",
   "execution_count": 41,
   "id": "68ceaabb-35b1-4a9f-bbc0-6d0b2aba230e",
   "metadata": {},
   "outputs": [
    {
     "data": {
      "image/png": "[encoded data removed]",
      "text/plain": [
       "<Figure size 640x480 with 1 Axes>"
      ]
     },
     "metadata": {},
     "output_type": "display_data"
    },
    {
     "data": {
      "text/plain": [
       "(0.8306461399642955, 0.9781028047124856)"
      ]
     },
     "execution_count": 41,
     "metadata": {},
     "output_type": "execute_result"
    }
   ],
   "source": [
    "model2 = ['Engine','Sqrt_Kilometers_Driven', 'Car_Age', 'Log_Power']\n",
    "data_X2 = data_transformed[model2]\n",
    "data_Y2 = data_transformed['Price_USD']\n",
    "\n",
    "#Randomly split the dataset into 70% training and 30% validation.\n",
    "X_train2, X_test2, y_train2, y_test2 = train_test_split(data_X2, data_Y2, test_size=0.3, random_state=42)\n",
    "\n",
    "rf2 = RandomForestRegressor()\n",
    "rf2.fit(X_train2, y_train2)\n",
    "\n",
    "# Get feature importance\n",
    "importance2 = pd.Series(rf2.feature_importances_, index=X_train2.columns)\n",
    "\n",
    "# Plot feature importance\n",
    "importance2.sort_values(ascending=False).plot(kind='bar')\n",
    "plt.show()\n",
    "\n",
    "rf2.score(X_test2, y_test2), rf2.score(X_train2, y_train2)"
   ]
  },
  {
   "cell_type": "markdown",
   "id": "8622a2d7-972c-409a-b41a-fa45fa62e60e",
   "metadata": {},
   "source": [
    "**Hyperparameter Tuning**"
   ]
  },
  {
   "cell_type": "code",
   "execution_count": 42,
   "id": "0facb8db-f946-45e8-8658-bd80a2b7d4f6",
   "metadata": {},
   "outputs": [
    {
     "name": "stdout",
     "output_type": "stream",
     "text": [
      "{'max_depth': 20, 'min_samples_leaf': 1, 'min_samples_split': 5, 'n_estimators': 300}\n"
     ]
    },
    {
     "data": {
      "text/html": [
       "<style>#sk-container-id-1 {color: black;background-color: white;}#sk-container-id-1 pre{padding: 0;}#sk-container-id-1 div.sk-toggleable {background-color: white;}#sk-container-id-1 label.sk-toggleable__label {cursor: pointer;display: block;width: 100%;margin-bottom: 0;padding: 0.3em;box-sizing: border-box;text-align: center;}#sk-container-id-1 label.sk-toggleable__label-arrow:before {content: \"▸\";float: left;margin-right: 0.25em;color: #696969;}#sk-container-id-1 label.sk-toggleable__label-arrow:hover:before {color: black;}#sk-container-id-1 div.sk-estimator:hover label.sk-toggleable__label-arrow:before {color: black;}#sk-container-id-1 div.sk-toggleable__content {max-height: 0;max-width: 0;overflow: hidden;text-align: left;background-color: #f0f8ff;}#sk-container-id-1 div.sk-toggleable__content pre {margin: 0.2em;color: black;border-radius: 0.25em;background-color: #f0f8ff;}#sk-container-id-1 input.sk-toggleable__control:checked~div.sk-toggleable__content {max-height: 200px;max-width: 100%;overflow: auto;}#sk-container-id-1 input.sk-toggleable__control:checked~label.sk-toggleable__label-arrow:before {content: \"▾\";}#sk-container-id-1 div.sk-estimator input.sk-toggleable__control:checked~label.sk-toggleable__label {background-color: #d4ebff;}#sk-container-id-1 div.sk-label input.sk-toggleable__control:checked~label.sk-toggleable__label {background-color: #d4ebff;}#sk-container-id-1 input.sk-hidden--visually {border: 0;clip: rect(1px 1px 1px 1px);clip: rect(1px, 1px, 1px, 1px);height: 1px;margin: -1px;overflow: hidden;padding: 0;position: absolute;width: 1px;}#sk-container-id-1 div.sk-estimator {font-family: monospace;background-color: #f0f8ff;border: 1px dotted black;border-radius: 0.25em;box-sizing: border-box;margin-bottom: 0.5em;}#sk-container-id-1 div.sk-estimator:hover {background-color: #d4ebff;}#sk-container-id-1 div.sk-parallel-item::after {content: \"\";width: 100%;border-bottom: 1px solid gray;flex-grow: 1;}#sk-container-id-1 div.sk-label:hover label.sk-toggleable__label {background-color: #d4ebff;}#sk-container-id-1 div.sk-serial::before {content: \"\";position: absolute;border-left: 1px solid gray;box-sizing: border-box;top: 0;bottom: 0;left: 50%;z-index: 0;}#sk-container-id-1 div.sk-serial {display: flex;flex-direction: column;align-items: center;background-color: white;padding-right: 0.2em;padding-left: 0.2em;position: relative;}#sk-container-id-1 div.sk-item {position: relative;z-index: 1;}#sk-container-id-1 div.sk-parallel {display: flex;align-items: stretch;justify-content: center;background-color: white;position: relative;}#sk-container-id-1 div.sk-item::before, #sk-container-id-1 div.sk-parallel-item::before {content: \"\";position: absolute;border-left: 1px solid gray;box-sizing: border-box;top: 0;bottom: 0;left: 50%;z-index: -1;}#sk-container-id-1 div.sk-parallel-item {display: flex;flex-direction: column;z-index: 1;position: relative;background-color: white;}#sk-container-id-1 div.sk-parallel-item:first-child::after {align-self: flex-end;width: 50%;}#sk-container-id-1 div.sk-parallel-item:last-child::after {align-self: flex-start;width: 50%;}#sk-container-id-1 div.sk-parallel-item:only-child::after {width: 0;}#sk-container-id-1 div.sk-dashed-wrapped {border: 1px dashed gray;margin: 0 0.4em 0.5em 0.4em;box-sizing: border-box;padding-bottom: 0.4em;background-color: white;}#sk-container-id-1 div.sk-label label {font-family: monospace;font-weight: bold;display: inline-block;line-height: 1.2em;}#sk-container-id-1 div.sk-label-container {text-align: center;}#sk-container-id-1 div.sk-container {/* jupyter's `normalize.less` sets `[hidden] { display: none; }` but bootstrap.min.css set `[hidden] { display: none !important; }` so we also need the `!important` here to be able to override the default hidden behavior on the sphinx rendered scikit-learn.org. See: https://github.com/scikit-learn/scikit-learn/issues/21755 */display: inline-block !important;position: relative;}#sk-container-id-1 div.sk-text-repr-fallback {display: none;}</style><div id=\"sk-container-id-1\" class=\"sk-top-container\"><div class=\"sk-text-repr-fallback\"><pre>RandomForestRegressor(max_depth=20, min_samples_split=5, n_estimators=300)</pre><b>In a Jupyter environment, please rerun this cell to show the HTML representation or trust the notebook. <br />On GitHub, the HTML representation is unable to render, please try loading this page with nbviewer.org.</b></div><div class=\"sk-container\" hidden><div class=\"sk-item\"><div class=\"sk-estimator sk-toggleable\"><input class=\"sk-toggleable__control sk-hidden--visually\" id=\"sk-estimator-id-1\" type=\"checkbox\" checked><label for=\"sk-estimator-id-1\" class=\"sk-toggleable__label sk-toggleable__label-arrow\">RandomForestRegressor</label><div class=\"sk-toggleable__content\"><pre>RandomForestRegressor(max_depth=20, min_samples_split=5, n_estimators=300)</pre></div></div></div></div></div>"
      ],
      "text/plain": [
       "RandomForestRegressor(max_depth=20, min_samples_split=5, n_estimators=300)"
      ]
     },
     "execution_count": 42,
     "metadata": {},
     "output_type": "execute_result"
    }
   ],
   "source": [
    "from sklearn.model_selection import GridSearchCV\n",
    "\n",
    "# Define parameter grid for tuning\n",
    "param_grid = {\n",
    "    'n_estimators': [100, 200, 300],\n",
    "    'max_depth': [10, 15, 20],\n",
    "    'min_samples_split': [2, 5, 10],\n",
    "    'min_samples_leaf': [1, 2, 4]\n",
    "}\n",
    "\n",
    "# Perform grid search\n",
    "grid_search = GridSearchCV(estimator=rf, param_grid=param_grid, cv=5, scoring='r2', n_jobs=-1)\n",
    "grid_search.fit(X_train, y_train)\n",
    "\n",
    "# Get the best parameters\n",
    "print(grid_search.best_params_)\n",
    "\n",
    "# Train the RandomForestRegressor with best parameters\n",
    "best_rf = grid_search.best_estimator_\n",
    "best_rf.fit(X_train, y_train)\n"
   ]
  },
  {
   "cell_type": "code",
   "execution_count": 43,
   "id": "696f61eb-6faa-4f76-84c6-466efe547309",
   "metadata": {},
   "outputs": [
    {
     "name": "stdout",
     "output_type": "stream",
     "text": [
      "0.8516155897434569\n"
     ]
    }
   ],
   "source": [
    "best_scores = cross_val_score(best_rf, X_train, y_train, cv=5, scoring='r2')\n",
    "print(scores.mean())"
   ]
  },
  {
   "cell_type": "code",
   "execution_count": 44,
   "id": "81c36e79-0f6d-4713-8bbf-8240aca06bea",
   "metadata": {},
   "outputs": [
    {
     "data": {
      "text/plain": [
       "(0.842850557137512, 0.9677042190371403)"
      ]
     },
     "execution_count": 44,
     "metadata": {},
     "output_type": "execute_result"
    }
   ],
   "source": [
    "best_rf.score(X_test, y_test), best_rf.score(X_train, y_train)"
   ]
  },
  {
   "cell_type": "markdown",
   "id": "035bb56d-c4cf-4373-a81a-2d38fc1f3ab7",
   "metadata": {},
   "source": [
    "**Ridge Regression**"
   ]
  },
  {
   "cell_type": "code",
   "execution_count": 45,
   "id": "994d9575-cc39-4ec2-bb58-d368089a419f",
   "metadata": {},
   "outputs": [
    {
     "name": "stdout",
     "output_type": "stream",
     "text": [
      "0.6159665037704942 0.6138240979810361\n"
     ]
    }
   ],
   "source": [
    "from sklearn.linear_model import Ridge\n",
    "\n",
    "ridge = Ridge(alpha=1)  \n",
    "ridge.fit(X_train, y_train)\n",
    "\n",
    "print(ridge.score(X_test, y_test), ridge.score(X_train, y_train))"
   ]
  },
  {
   "cell_type": "code",
   "execution_count": 46,
   "id": "da53dd17-4277-4000-9c03-ddd33246ca5a",
   "metadata": {},
   "outputs": [
    {
     "name": "stdout",
     "output_type": "stream",
     "text": [
      "0.6109360552566564\n",
      "{'alpha': 100}\n",
      "0.6170278251956614 0.6125410284821173\n"
     ]
    }
   ],
   "source": [
    "# 1. Define a list of parameters (key is 'alpha')\n",
    "param_ridge = {'alpha': [0.001, 0.01, 0.1, 1, 10, 100] }\n",
    "\n",
    "# 2. Define function and fit the data\n",
    "grid_ridge = Ridge()\n",
    "grid_ridge_est = GridSearchCV(grid_ridge, param_ridge, cv=5)\n",
    "grid_ridge_est.fit(X_train, y_train)\n",
    "\n",
    "# 3.1 Present performance measure\n",
    "print(grid_ridge_est.best_score_)\n",
    "\n",
    "# 3.2 find best hyperparameters\n",
    "print(grid_ridge_est.best_params_)\n",
    "\n",
    "# 3.3 find best parameter estimates\n",
    "print(grid_ridge_est.score(X_test, y_test), grid_ridge_est.score(X_train, y_train))"
   ]
  },
  {
   "cell_type": "markdown",
   "id": "cb2978ce-7405-450f-9a4e-e14c634296af",
   "metadata": {},
   "source": [
    "**Lasso Regression**"
   ]
  },
  {
   "cell_type": "code",
   "execution_count": 47,
   "id": "6c49d4c2-dac9-4fc6-ad2c-36c5c1c7e913",
   "metadata": {},
   "outputs": [
    {
     "data": {
      "text/html": [
       "<style>#sk-container-id-2 {color: black;background-color: white;}#sk-container-id-2 pre{padding: 0;}#sk-container-id-2 div.sk-toggleable {background-color: white;}#sk-container-id-2 label.sk-toggleable__label {cursor: pointer;display: block;width: 100%;margin-bottom: 0;padding: 0.3em;box-sizing: border-box;text-align: center;}#sk-container-id-2 label.sk-toggleable__label-arrow:before {content: \"▸\";float: left;margin-right: 0.25em;color: #696969;}#sk-container-id-2 label.sk-toggleable__label-arrow:hover:before {color: black;}#sk-container-id-2 div.sk-estimator:hover label.sk-toggleable__label-arrow:before {color: black;}#sk-container-id-2 div.sk-toggleable__content {max-height: 0;max-width: 0;overflow: hidden;text-align: left;background-color: #f0f8ff;}#sk-container-id-2 div.sk-toggleable__content pre {margin: 0.2em;color: black;border-radius: 0.25em;background-color: #f0f8ff;}#sk-container-id-2 input.sk-toggleable__control:checked~div.sk-toggleable__content {max-height: 200px;max-width: 100%;overflow: auto;}#sk-container-id-2 input.sk-toggleable__control:checked~label.sk-toggleable__label-arrow:before {content: \"▾\";}#sk-container-id-2 div.sk-estimator input.sk-toggleable__control:checked~label.sk-toggleable__label {background-color: #d4ebff;}#sk-container-id-2 div.sk-label input.sk-toggleable__control:checked~label.sk-toggleable__label {background-color: #d4ebff;}#sk-container-id-2 input.sk-hidden--visually {border: 0;clip: rect(1px 1px 1px 1px);clip: rect(1px, 1px, 1px, 1px);height: 1px;margin: -1px;overflow: hidden;padding: 0;position: absolute;width: 1px;}#sk-container-id-2 div.sk-estimator {font-family: monospace;background-color: #f0f8ff;border: 1px dotted black;border-radius: 0.25em;box-sizing: border-box;margin-bottom: 0.5em;}#sk-container-id-2 div.sk-estimator:hover {background-color: #d4ebff;}#sk-container-id-2 div.sk-parallel-item::after {content: \"\";width: 100%;border-bottom: 1px solid gray;flex-grow: 1;}#sk-container-id-2 div.sk-label:hover label.sk-toggleable__label {background-color: #d4ebff;}#sk-container-id-2 div.sk-serial::before {content: \"\";position: absolute;border-left: 1px solid gray;box-sizing: border-box;top: 0;bottom: 0;left: 50%;z-index: 0;}#sk-container-id-2 div.sk-serial {display: flex;flex-direction: column;align-items: center;background-color: white;padding-right: 0.2em;padding-left: 0.2em;position: relative;}#sk-container-id-2 div.sk-item {position: relative;z-index: 1;}#sk-container-id-2 div.sk-parallel {display: flex;align-items: stretch;justify-content: center;background-color: white;position: relative;}#sk-container-id-2 div.sk-item::before, #sk-container-id-2 div.sk-parallel-item::before {content: \"\";position: absolute;border-left: 1px solid gray;box-sizing: border-box;top: 0;bottom: 0;left: 50%;z-index: -1;}#sk-container-id-2 div.sk-parallel-item {display: flex;flex-direction: column;z-index: 1;position: relative;background-color: white;}#sk-container-id-2 div.sk-parallel-item:first-child::after {align-self: flex-end;width: 50%;}#sk-container-id-2 div.sk-parallel-item:last-child::after {align-self: flex-start;width: 50%;}#sk-container-id-2 div.sk-parallel-item:only-child::after {width: 0;}#sk-container-id-2 div.sk-dashed-wrapped {border: 1px dashed gray;margin: 0 0.4em 0.5em 0.4em;box-sizing: border-box;padding-bottom: 0.4em;background-color: white;}#sk-container-id-2 div.sk-label label {font-family: monospace;font-weight: bold;display: inline-block;line-height: 1.2em;}#sk-container-id-2 div.sk-label-container {text-align: center;}#sk-container-id-2 div.sk-container {/* jupyter's `normalize.less` sets `[hidden] { display: none; }` but bootstrap.min.css set `[hidden] { display: none !important; }` so we also need the `!important` here to be able to override the default hidden behavior on the sphinx rendered scikit-learn.org. See: https://github.com/scikit-learn/scikit-learn/issues/21755 */display: inline-block !important;position: relative;}#sk-container-id-2 div.sk-text-repr-fallback {display: none;}</style><div id=\"sk-container-id-2\" class=\"sk-top-container\"><div class=\"sk-text-repr-fallback\"><pre>Lasso(alpha=1)</pre><b>In a Jupyter environment, please rerun this cell to show the HTML representation or trust the notebook. <br />On GitHub, the HTML representation is unable to render, please try loading this page with nbviewer.org.</b></div><div class=\"sk-container\" hidden><div class=\"sk-item\"><div class=\"sk-estimator sk-toggleable\"><input class=\"sk-toggleable__control sk-hidden--visually\" id=\"sk-estimator-id-2\" type=\"checkbox\" checked><label for=\"sk-estimator-id-2\" class=\"sk-toggleable__label sk-toggleable__label-arrow\">Lasso</label><div class=\"sk-toggleable__content\"><pre>Lasso(alpha=1)</pre></div></div></div></div></div>"
      ],
      "text/plain": [
       "Lasso(alpha=1)"
      ]
     },
     "execution_count": 47,
     "metadata": {},
     "output_type": "execute_result"
    }
   ],
   "source": [
    "from sklearn.linear_model import Lasso\n",
    "\n",
    "lasso_reg = Lasso(alpha=1)\n",
    "lasso_reg.fit(X_train, y_train)"
   ]
  },
  {
   "cell_type": "code",
   "execution_count": 48,
   "id": "ac5bff46-f6aa-42ec-953c-a7caefe103e4",
   "metadata": {},
   "outputs": [
    {
     "name": "stdout",
     "output_type": "stream",
     "text": [
      "0.6108629254228981\n",
      "{'alpha': 10}\n",
      "0.6165734371710976 0.6132506409243351\n"
     ]
    }
   ],
   "source": [
    "# Grid Search with CV - LASSO Case\n",
    "\n",
    "# 1. Define a list of parameters (key is 'alpha')\n",
    "param_lasso = {'alpha': [0, 0.00001, 0.0001, 0.001, 0.01, 0.1, 1, 10, 100] }\n",
    "\n",
    "# 2. Define function and fit the data\n",
    "grid_lasso = Lasso()\n",
    "grid_lasso_est = GridSearchCV(grid_lasso, param_lasso, cv=5)\n",
    "grid_lasso_est.fit(X_train, y_train)\n",
    "\n",
    "# 3.1 Present performance measure\n",
    "print(grid_lasso_est.best_score_)\n",
    "\n",
    "# 3.2 find best hyperparameters\n",
    "print(grid_lasso_est.best_params_)\n",
    "\n",
    "# 3.3 find best parameter estimates\n",
    "print(grid_lasso_est.score(X_test, y_test), grid_lasso_est.score(X_train, y_train))"
   ]
  },
  {
   "cell_type": "markdown",
   "id": "da05a992-4ebe-4afe-836d-01e1cc28a562",
   "metadata": {},
   "source": [
    "**KNN**"
   ]
  },
  {
   "cell_type": "code",
   "execution_count": 49,
   "id": "ccfbc742-acb9-4503-8bcd-10d9e0476662",
   "metadata": {},
   "outputs": [
    {
     "name": "stdout",
     "output_type": "stream",
     "text": [
      "Test MSE: 43637736.90607605\n",
      "Test R²: 0.7555905447721092\n",
      "Cross-validated R² score: 0.7387856449971754\n",
      "Best number of neighbors: 4\n",
      "Best Test R²: 0.7453156100676601\n"
     ]
    }
   ],
   "source": [
    "from sklearn.neighbors import KNeighborsRegressor\n",
    "# Initialize the KNN regressor\n",
    "knn = KNeighborsRegressor(n_neighbors=5)\n",
    "\n",
    "# Train the KNN model\n",
    "knn.fit(X_train, y_train)\n",
    "\n",
    "# Predict on the test set\n",
    "y_pred_test = knn.predict(X_test)\n",
    "\n",
    "# Evaluate the performance \n",
    "mse_test = mse(y_test, y_pred_test)\n",
    "r2_test = r2_score(y_test, y_pred_test)\n",
    "\n",
    "\n",
    "print(f\"Test MSE: {mse_test}\")\n",
    "print(f\"Test R²: {r2_test}\")\n",
    "\n",
    "# Perform cross-validation on training data\n",
    "cv_scores = cross_val_score(knn, X_train, y_train, cv=5, scoring='r2')\n",
    "print(f\"Cross-validated R² score: {cv_scores.mean()}\")\n",
    "\n",
    "param_grid = {'n_neighbors': range(1, 20)}\n",
    "\n",
    "# Perform grid search\n",
    "grid_search = GridSearchCV(KNeighborsRegressor(), param_grid, cv=5, scoring='r2', n_jobs=-1)\n",
    "grid_search.fit(X_train, y_train)\n",
    "\n",
    "# Best number of neighbors\n",
    "print(f\"Best number of neighbors: {grid_search.best_params_['n_neighbors']}\")\n",
    "\n",
    "# Use the best model\n",
    "best_knn = grid_search.best_estimator_\n",
    "best_knn.fit(X_train, y_train)\n",
    "\n",
    "# Predict and evaluate\n",
    "y_pred_best = best_knn.predict(X_test)\n",
    "print(f\"Best Test R²: {r2_score(y_test, y_pred_best)}\")"
   ]
  },
  {
   "cell_type": "markdown",
   "id": "3479074f-7f02-4eb2-a7c1-e061d8d88a7e",
   "metadata": {},
   "source": [
    "   | Model              | Test R²        | Training R²   | Notes                                                                                     |\r\n",
    "|--------------------|----------------|---------------|-------------------------------------------------------------------------------------------|\r\n",
    "| **Linear Regression** | 0.6148         | 0.6140        | Moderate performance, with very close train and test R², indicating no major overfitting.  |\r\n",
    "| **Random Forest**     | 0.8384         | 0.8529        | Best performing model in terms of R². Slightly higher train R², suggesting slight overfitting. |\r\n",
    "| **Ridge**             | 0.6170         | 0.6125        | Similar performance to Linear Regression; Ridge regularization doesn’t add significant improvement. |\r\n",
    "| **Lasso**             | 0.6166         | 0.6133        | Performance nearly identical to Ridge and Linear Regression. Lasso doesn’t show significant gains here. |\r\n",
    "| **KNN**               | 0.7556         | 0.7388        | Strong performance, though not as high as Random Forest. Close train-test R² shows good generalization. |\r\n"
   ]
  },
  {
   "cell_type": "code",
   "execution_count": null,
   "id": "16460c43-c34b-4846-9c50-2567b501d4ff",
   "metadata": {},
   "outputs": [],
   "source": []
  },
  {
   "cell_type": "code",
   "execution_count": null,
   "id": "e9f893d7-c780-4890-a359-dccc087708f2",
   "metadata": {},
   "outputs": [],
   "source": []
  },
  {
   "cell_type": "code",
   "execution_count": null,
   "id": "f14ab6fe-f4c9-4b96-a43b-7691aefab655",
   "metadata": {},
   "outputs": [],
   "source": []
  }
 ],
 "metadata": {
  "kernelspec": {
   "display_name": "Python 3 (ipykernel)",
   "language": "python",
   "name": "python3"
  },
  "language_info": {
   "codemirror_mode": {
    "name": "ipython",
    "version": 3
   },
   "file_extension": ".py",
   "mimetype": "text/x-python",
   "name": "python",
   "nbconvert_exporter": "python",
   "pygments_lexer": "ipython3",
   "version": "3.11.7"
  }
 },
 "nbformat": 4,
 "nbformat_minor": 5
}
